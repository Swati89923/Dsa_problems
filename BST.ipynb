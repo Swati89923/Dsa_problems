{
 "cells": [
  {
   "cell_type": "markdown",
   "id": "aee63db3",
   "metadata": {},
   "source": [
    "<h2>TREE/Binay Tree/BST QUESTIONS</h2>"
   ]
  },
  {
   "cell_type": "markdown",
   "id": "71737591",
   "metadata": {},
   "source": [
    "# Implementation (BST)"
   ]
  },
  {
   "cell_type": "code",
   "execution_count": 2,
   "id": "6a5035c7",
   "metadata": {},
   "outputs": [
    {
     "name": "stdout",
     "output_type": "stream",
     "text": [
      "Inorder:\n",
      "20 30 40 50 60 70 80 \n",
      "Search 60: True\n",
      "Level Order:\n",
      "50 30 70 20 40 60 80 Before Deletion:\n",
      "20 30 40 50 60 70 80 \n",
      "After Deletion:\n",
      "20 30 40 60 70 80 "
     ]
    }
   ],
   "source": [
    "from collections import deque\n",
    "\n",
    "class Node:\n",
    "    def __init__(self, data):\n",
    "        self.data = data\n",
    "        self.left = None\n",
    "        self.right = None\n",
    "\n",
    "class BST:\n",
    "    def __init__(self):\n",
    "        self.root = None\n",
    "\n",
    "    def insert(self, root, data):\n",
    "        if root is None:\n",
    "            return Node(data)\n",
    "        if data < root.data:\n",
    "            root.left = self.insert(root.left, data)\n",
    "        elif data > root.data:\n",
    "            root.right = self.insert(root.right, data)\n",
    "        return root\n",
    "\n",
    "    def inorder(self, root):\n",
    "        if root:\n",
    "            self.inorder(root.left)\n",
    "            print(root.data, end=\" \")\n",
    "            self.inorder(root.right)\n",
    "\n",
    "    def preorder(self, root):\n",
    "        if root:\n",
    "            print(root.data, end=\" \")\n",
    "            self.preorder(root.left)\n",
    "            self.preorder(root.right)\n",
    "\n",
    "    def postorder(self, root):\n",
    "        if root:\n",
    "            self.postorder(root.left)\n",
    "            self.postorder(root.right)\n",
    "            print(root.data, end=\" \")\n",
    "        \n",
    "    def level_BFS(self,root):\n",
    "        if root is None:\n",
    "            return\n",
    "        q = deque()\n",
    "        q.append(root)\n",
    "        while q:\n",
    "            node = q.popleft()\n",
    "            print(node.data,end=\" \")\n",
    "            if node.left:\n",
    "                q.append(node.left)\n",
    "            if node.right:\n",
    "                q.append(node.right)\n",
    "        \n",
    "        \n",
    "\n",
    "    def search(self, root, data):\n",
    "        if root:\n",
    "            if root.data == data:\n",
    "                return True\n",
    "            elif data < root.data:\n",
    "                return self.search(root.left, data)\n",
    "            else:\n",
    "                return self.search(root.right, data)\n",
    "        return False\n",
    "    \n",
    "    def delete(self, root, key):\n",
    "        if root is None:\n",
    "            return None\n",
    "        if key < root.data:\n",
    "            root.left = self.delete(root.left, key)\n",
    "        elif key > root.data:\n",
    "            root.right = self.delete(root.right, key)\n",
    "        else:\n",
    "            if root.left is None and root.right is None:\n",
    "                return None\n",
    "            elif root.left is None:\n",
    "                return root.right\n",
    "            elif root.right is None:\n",
    "                return root.left\n",
    "            else:\n",
    "                successor = self.get_min(root.right)\n",
    "                root.data = successor.data\n",
    "                root.right = self.delete(root.right, successor.data)\n",
    "        return root\n",
    "\n",
    "    def get_min(self, node):\n",
    "        while node.left:\n",
    "            node = node.left\n",
    "        return node\n",
    "\n",
    "\n",
    "\n",
    "bst = BST()\n",
    "for val in [50, 30, 70, 20, 40, 60, 80]:\n",
    "    bst.root = bst.insert(bst.root, val)\n",
    "\n",
    "print(\"Inorder:\")\n",
    "bst.inorder(bst.root)\n",
    "\n",
    "print(\"\\nSearch 60:\", bst.search(bst.root, 60))\n",
    "\n",
    "print(\"Level Order:\")\n",
    "bst.level_BFS(bst.root)\n",
    "\n",
    "print(\"Before Deletion:\")\n",
    "bst.inorder(bst.root)\n",
    "\n",
    "# Now delete a node\n",
    "bst.root = bst.delete(bst.root, 50)\n",
    "\n",
    "print(\"\\nAfter Deletion:\")\n",
    "bst.inorder(bst.root)"
   ]
  },
  {
   "cell_type": "markdown",
   "id": "5b727ec3",
   "metadata": {},
   "source": [
    "# Important Questions"
   ]
  },
  {
   "cell_type": "markdown",
   "id": "9bad9ef0",
   "metadata": {},
   "source": [
    "<h3>Count number of nodes</h3>"
   ]
  },
  {
   "cell_type": "code",
   "execution_count": 3,
   "id": "c20603e5",
   "metadata": {},
   "outputs": [],
   "source": [
    "def count_nodes(root):\n",
    "    if root is None:\n",
    "        return 0\n",
    "    left_count = count_nodes(root.left)\n",
    "    right_count = count_nodes(root.right)\n",
    "    return 1+ left_count + right_count "
   ]
  },
  {
   "cell_type": "markdown",
   "id": "843c2147",
   "metadata": {},
   "source": [
    "<h3>Sum of all nodes</h3>"
   ]
  },
  {
   "cell_type": "code",
   "execution_count": 4,
   "id": "f2e18c32",
   "metadata": {},
   "outputs": [],
   "source": [
    "def sum_nodes(root):\n",
    "    if root is None:\n",
    "        return 0\n",
    "    left_sum = sum_nodes(root.left)\n",
    "    right_sum = sum_nodes(root.right)\n",
    "    return root.data + left_sum + right_sum"
   ]
  },
  {
   "cell_type": "markdown",
   "id": "bb2dca23",
   "metadata": {},
   "source": [
    "<h3>Height of BST</h3>"
   ]
  },
  {
   "cell_type": "code",
   "execution_count": 5,
   "id": "bda68d41",
   "metadata": {},
   "outputs": [],
   "source": [
    "def height(root):\n",
    "    if root is None:\n",
    "        return 0\n",
    "    left = height(root.left)\n",
    "    right = height(root.right)\n",
    "    return 1+ max(left,right) "
   ]
  },
  {
   "cell_type": "markdown",
   "id": "dbd27c56",
   "metadata": {},
   "source": [
    "<h3>Check if two BST are identical  OR Same tree</h3> "
   ]
  },
  {
   "cell_type": "code",
   "execution_count": 6,
   "id": "b51c9c81",
   "metadata": {},
   "outputs": [],
   "source": [
    "def is_identical(root1,root2):\n",
    "    if root1 is None or root2 is None:\n",
    "        return root1 == root2\n",
    "\n",
    "    is_left = is_identical(root1.left,root2.left)\n",
    "    is_right = is_identical(root1.right,root2.right)\n",
    "    return is_left and is_right and root1.data == root2.data"
   ]
  },
  {
   "cell_type": "markdown",
   "id": "dad1a2ae",
   "metadata": {},
   "source": [
    "<h3>Subtree of another tree</h3>"
   ]
  },
  {
   "cell_type": "code",
   "execution_count": 7,
   "id": "774837f7",
   "metadata": {},
   "outputs": [],
   "source": [
    "def is_subtree(root,subroot):\n",
    "    if root is None or subroot is None:\n",
    "        return root == subroot\n",
    "    if root.data == subroot.data and is_identical(root,subroot):\n",
    "        return True\n",
    "    return is_subtree(root.left,subroot) or is_subtree(root.right,subroot)"
   ]
  },
  {
   "cell_type": "markdown",
   "id": "91c2ae7f",
   "metadata": {},
   "source": [
    "<h3>Diameter of tree</h3>"
   ]
  },
  {
   "cell_type": "code",
   "execution_count": 8,
   "id": "183a7204",
   "metadata": {},
   "outputs": [],
   "source": [
    "def diameter(root):\n",
    "    if root is None:\n",
    "        return 0\n",
    "    leftDia = diameter(root.left)\n",
    "    rightDia = diameter(root.right)\n",
    "    rootDia = height(root.left) + height(root.right)\n",
    "    return max(leftDia,rightDia,rootDia)"
   ]
  },
  {
   "cell_type": "markdown",
   "id": "0d2e0dcc",
   "metadata": {},
   "source": [
    "<h2>Binary Tree Level Order Traversal</h2>\n",
    "\n",
    "Given the root of a binary tree, return the level order traversal of its nodes' values. (i.e., from left to right, level by level)."
   ]
  },
  {
   "cell_type": "code",
   "execution_count": 10,
   "id": "3b4390bd",
   "metadata": {},
   "outputs": [
    {
     "name": "stdout",
     "output_type": "stream",
     "text": [
      "Inorder:\n"
     ]
    },
    {
     "data": {
      "text/plain": [
       "[[50], [30, 70], [20, 40, 60, 80]]"
      ]
     },
     "execution_count": 10,
     "metadata": {},
     "output_type": "execute_result"
    }
   ],
   "source": [
    "from collections import deque\n",
    "\n",
    "def levelOrder(root):\n",
    "        if root is None:\n",
    "            return []\n",
    "        q = deque([root])\n",
    "        result = []\n",
    "        while q:\n",
    "            level = []\n",
    "            level_size = len(q)\n",
    "            for i in range(level_size):\n",
    "                node = q.popleft()\n",
    "                level.append(node.data)\n",
    "                if node.left:\n",
    "                    q.append(node.left)\n",
    "                if node.right:\n",
    "                    q.append(node.right)\n",
    "            result.append(level)\n",
    "        return result \n",
    "\n",
    "bst = BST()\n",
    "for val in [50, 30, 70, 20, 40, 60, 80]:\n",
    "    bst.root = bst.insert(bst.root, val)\n",
    "\n",
    "print(\"Inorder:\")\n",
    "levelOrder(bst.root)"
   ]
  },
  {
   "cell_type": "markdown",
   "id": "c3ba3944",
   "metadata": {},
   "source": [
    "<h3>Post-order Traversal of Binary Tree using 2 stack</h3>\n",
    "\n",
    "Given the root of a Binary Tree, create a function that performs a postorder traversal using two stacks and returns an array containing the traversal sequence."
   ]
  },
  {
   "cell_type": "code",
   "execution_count": null,
   "id": "e245a7e3",
   "metadata": {},
   "outputs": [
    {
     "name": "stdout",
     "output_type": "stream",
     "text": [
      "[4, 5, 2, 3, 1]\n"
     ]
    }
   ],
   "source": [
    "def post_order_twoStack(root):\n",
    "    if root is None:\n",
    "        return []\n",
    "    \n",
    "    st1 = [root]\n",
    "    st2 = []\n",
    "    result = []\n",
    "    \n",
    "    while st1:\n",
    "        node = st1.pop()\n",
    "        st2.append(node)\n",
    "        if node.left:\n",
    "            st1.append(node.left)\n",
    "        if node.right:\n",
    "            st1.append(node.right)\n",
    "    \n",
    "    while st2:\n",
    "        node = st2.pop()\n",
    "        result.append(node.data)\n",
    "    \n",
    "    return result\n",
    "root = Node(1)\n",
    "root.left = Node(2)\n",
    "root.right = Node(3)\n",
    "root.left.left = Node(4)\n",
    "root.left.right = Node(5)\n",
    "print(post_order_twoStack(root))  "
   ]
  }
 ],
 "metadata": {
  "kernelspec": {
   "display_name": "Python 3",
   "language": "python",
   "name": "python3"
  },
  "language_info": {
   "codemirror_mode": {
    "name": "ipython",
    "version": 3
   },
   "file_extension": ".py",
   "mimetype": "text/x-python",
   "name": "python",
   "nbconvert_exporter": "python",
   "pygments_lexer": "ipython3",
   "version": "3.13.0"
  }
 },
 "nbformat": 4,
 "nbformat_minor": 5
}
