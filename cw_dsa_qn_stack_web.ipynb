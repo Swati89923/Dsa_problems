{
 "cells": [
  {
   "cell_type": "code",
   "execution_count": 7,
   "id": "d0ed18b1",
   "metadata": {},
   "outputs": [
    {
     "name": "stdout",
     "output_type": "stream",
     "text": [
      "https://en.wikipedia.org/wiki/Football\n",
      "https://en.wikipedia.org/wiki/Team_sport\n",
      "back to  previous page https://en.wikipedia.org/wiki/Football\n",
      "forward from the current page https://en.wikipedia.org/wiki/Team_sport\n",
      "back to  previous page https://en.wikipedia.org/wiki/Football\n"
     ]
    }
   ],
   "source": [
    "class Wikipedia:\n",
    "\n",
    "    def __init__(self,current):\n",
    "        self.current=current\n",
    "        self.back_stack=[]\n",
    "        self.forward_stack=[]\n",
    "    def visit_web(self,new_site):\n",
    "       self.back_stack.append(self.current)\n",
    "       self.current=new_site\n",
    "       self.forward_stack.clear()\n",
    "       print(self.current)\n",
    "\n",
    "    def get_back(self):\n",
    "        if not self.back_stack:\n",
    "            print(\"I have no ppages to go back\")\n",
    "            return\n",
    "        self.forward_stack.append(self.current)\n",
    "        self.current=self.back_stack.pop()\n",
    "        print(f\"back to  previous page {self.current}\")\n",
    "    def get_forward(self):\n",
    "        if not self.forward_stack:\n",
    "            print(\"I have no any page to go forward\")\n",
    "            return\n",
    "        self.back_stack.append(self.current)\n",
    "        self.current=self.forward_stack.pop()\n",
    "        print(f\"forward from the current page {self.current}\")\n",
    "    def display(self):\n",
    "        return self.current\n",
    "    \n",
    "wiki=Wikipedia(\"https://www.wikipedia.org/\")\n",
    "wiki.visit_web(\"https://en.wikipedia.org/wiki/Football\")\n",
    "wiki.visit_web(\"https://en.wikipedia.org/wiki/Team_sport\")\n",
    "wiki.get_back()\n",
    "wiki.get_forward()\n",
    "wiki.get_back()\n",
    "\n"
   ]
  },
  {
   "cell_type": "code",
   "execution_count": 1,
   "id": "50298dd6",
   "metadata": {},
   "outputs": [
    {
     "name": "stdout",
     "output_type": "stream",
     "text": [
      "[2, 9, 10, 10, -1]\n"
     ]
    }
   ],
   "source": [
    "def next_greater(arr):\n",
    "    ans = [-1] * len(arr)\n",
    "    stack = []\n",
    "\n",
    "    for i in range(len(arr)):\n",
    "        while stack and arr[i] > arr[stack[-1]]:\n",
    "            prev_index = stack.pop()\n",
    "            ans[prev_index] = arr[i]\n",
    "        stack.append(i)\n",
    "\n",
    "    return ans\n",
    "\n",
    "print(next_greater([1, 2, 9, 8, 10]))\n"
   ]
  }
 ],
 "metadata": {
  "kernelspec": {
   "display_name": "Python 3",
   "language": "python",
   "name": "python3"
  },
  "language_info": {
   "codemirror_mode": {
    "name": "ipython",
    "version": 3
   },
   "file_extension": ".py",
   "mimetype": "text/x-python",
   "name": "python",
   "nbconvert_exporter": "python",
   "pygments_lexer": "ipython3",
   "version": "3.12.10"
  }
 },
 "nbformat": 4,
 "nbformat_minor": 5
}
