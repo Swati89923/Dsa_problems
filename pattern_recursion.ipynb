{
 "cells": [
  {
   "cell_type": "code",
   "execution_count": 1,
   "metadata": {},
   "outputs": [
    {
     "name": "stdout",
     "output_type": "stream",
     "text": [
      "***\n",
      "**\n",
      "*\n"
     ]
    }
   ],
   "source": [
    "def pattern1(n):\n",
    "    if n==0:\n",
    "        return \n",
    "    else:\n",
    "        print(\"*\"*n)\n",
    "        pattern1(n-1)\n",
    "pattern1(3)\n"
   ]
  },
  {
   "cell_type": "code",
   "execution_count": 2,
   "metadata": {},
   "outputs": [
    {
     "name": "stdout",
     "output_type": "stream",
     "text": [
      "*\n",
      "**\n",
      "***\n",
      "****\n",
      "*****\n",
      "******\n",
      "*******\n",
      "********\n",
      "*********\n"
     ]
    }
   ],
   "source": [
    "def pattern2(n):\n",
    "    if n==0:\n",
    "        return \n",
    "    else:\n",
    "        pattern2(n-1)\n",
    "        print(\"*\"*n)\n",
    "pattern2(9)"
   ]
  },
  {
   "cell_type": "code",
   "execution_count": 4,
   "metadata": {},
   "outputs": [
    {
     "name": "stdout",
     "output_type": "stream",
     "text": [
      "111111111\n",
      "22222222\n",
      "3333333\n",
      "444444\n",
      "55555\n",
      "6666\n",
      "777\n",
      "88\n",
      "9\n"
     ]
    }
   ],
   "source": [
    "def pattern3(n,i=1):\n",
    "    if n==0:\n",
    "        return\n",
    "    else:\n",
    "        print(str(i)*n)\n",
    "        pattern3(n-1,i+1)\n",
    "pattern3(9)"
   ]
  },
  {
   "cell_type": "code",
   "execution_count": 6,
   "metadata": {},
   "outputs": [
    {
     "name": "stdout",
     "output_type": "stream",
     "text": [
      "   *\n",
      "  **\n",
      " ***\n",
      "****\n"
     ]
    }
   ],
   "source": [
    "def pattern4(n,i=0):\n",
    "    if n==0:\n",
    "        return \n",
    "    else:\n",
    "        pattern4(n-1,i=i+1)\n",
    "        print(\" \"* i+ \"*\"*n)\n",
    "pattern4(4)"
   ]
  },
  {
   "cell_type": "code",
   "execution_count": 8,
   "metadata": {},
   "outputs": [
    {
     "name": "stdout",
     "output_type": "stream",
     "text": [
      "     *     \n",
      "    ***    \n",
      "   *****   \n",
      "  *******  \n",
      " ********* \n",
      "***********\n"
     ]
    }
   ],
   "source": [
    "def pattern5(n,i=0):\n",
    "    if n==0:\n",
    "        return\n",
    "    else:\n",
    "        \n",
    "        pattern5(n-1,i+1)\n",
    "        print(\" \"*i+\"*\"* (2*n-1)+\" \"*i)\n",
    "pattern5(6)"
   ]
  },
  {
   "cell_type": "code",
   "execution_count": 13,
   "metadata": {},
   "outputs": [
    {
     "name": "stdout",
     "output_type": "stream",
     "text": [
      "***********\n",
      " ********* \n",
      "  *******  \n",
      "   *****   \n",
      "    ***    \n",
      "     *     \n",
      "     *     \n",
      "    ***    \n",
      "   *****   \n",
      "  *******  \n",
      " ********* \n",
      "***********\n"
     ]
    }
   ],
   "source": [
    "def pattern5(n,i=0):\n",
    "    if n==0:\n",
    "        return\n",
    "    else:\n",
    "        print(\" \"*i+\"*\"* (2*n-1)+\" \"*i)\n",
    "        pattern5(n-1,i+1)\n",
    "        print(\" \"*i+\"*\"* (2*n-1)+\" \"*i)\n",
    "\n",
    "pattern5(6)"
   ]
  },
  {
   "cell_type": "code",
   "execution_count": 14,
   "metadata": {},
   "outputs": [
    {
     "name": "stdout",
     "output_type": "stream",
     "text": [
      "***********\n",
      "***********\n",
      " ********* \n",
      " ********* \n",
      "  *******  \n",
      "  *******  \n",
      "   *****   \n",
      "   *****   \n",
      "    ***    \n",
      "    ***    \n",
      "     *     \n",
      "     *     \n"
     ]
    }
   ],
   "source": [
    "def pattern5(n,i=0):\n",
    "    if n==0:\n",
    "        return\n",
    "    else:\n",
    "        \n",
    "        print(\" \"*i+\"*\"* (2*n-1)+\" \"*i)\n",
    "       \n",
    "        print(\" \"*i+\"*\"* (2*n-1)+\" \"*i)\n",
    "        pattern5(n-1,i+1)\n",
    "pattern5(6)"
   ]
  },
  {
   "cell_type": "code",
   "execution_count": 1,
   "metadata": {},
   "outputs": [
    {
     "name": "stdout",
     "output_type": "stream",
     "text": [
      "4 8 7 3 2 1 "
     ]
    }
   ],
   "source": [
    "#Write a recursive function to print elements of an array in reverse order\n",
    "def reverse(arr,i=0,n=None):\n",
    "    if n is None:\n",
    "        n=len(arr)\n",
    "    if i==n:\n",
    "        return\n",
    "    reverse(arr,i+1,n)\n",
    "    print(arr[i],end=\" \")\n",
    "reverse([1,2,3,7,8,4])"
   ]
  },
  {
   "cell_type": "code",
   "execution_count": 3,
   "metadata": {},
   "outputs": [
    {
     "name": "stdout",
     "output_type": "stream",
     "text": [
      "*\n",
      "**\n",
      "***\n",
      "****\n",
      "*****\n",
      "******\n",
      "*******\n",
      "********\n"
     ]
    }
   ],
   "source": [
    "def pattern1(n,i=0):\n",
    "    if n==0:\n",
    "        return\n",
    "    pattern1(n-1)\n",
    "    print(\"*\"*n)\n",
    "pattern1(8)"
   ]
  },
  {
   "cell_type": "code",
   "execution_count": 6,
   "metadata": {},
   "outputs": [
    {
     "name": "stdout",
     "output_type": "stream",
     "text": [
      "*****\n",
      "****\n",
      "***\n",
      "**\n",
      "*\n"
     ]
    }
   ],
   "source": [
    "def pattern2(n):\n",
    "    if n==0:\n",
    "        return\n",
    "    else:\n",
    "        print(\"*\"*n)\n",
    "        pattern2(n-1)\n",
    "pattern2(5)"
   ]
  },
  {
   "cell_type": "code",
   "execution_count": 9,
   "metadata": {},
   "outputs": [
    {
     "name": "stdout",
     "output_type": "stream",
     "text": [
      "   *  \n",
      "  *** \n",
      " *****\n",
      "*******\n"
     ]
    }
   ],
   "source": [
    "def pattern3(n,i=0):\n",
    "    if n==0:\n",
    "        return\n",
    "    else:\n",
    "        pattern3(n-1,i+1)\n",
    "        print(\" \"*(i)+\"*\"*(2*n-1)+\" \"*(i-1))\n",
    "pattern3(4)\n"
   ]
  },
  {
   "cell_type": "code",
   "execution_count": 15,
   "metadata": {},
   "outputs": [
    {
     "name": "stdout",
     "output_type": "stream",
     "text": [
      "***********\n",
      " ********* \n",
      "  *******  \n",
      "   *****   \n",
      "    ***    \n",
      "     *     \n",
      "     *     \n",
      "    ***    \n",
      "   *****   \n",
      "  *******  \n",
      " ********* \n",
      "***********\n"
     ]
    }
   ],
   "source": [
    "def pattern4(n,i=0):\n",
    "    if n==0:\n",
    "        return\n",
    "    else:\n",
    "        \n",
    "        print(\" \"*i+(2*n-1)*\"*\"+\" \"*(i))\n",
    "        pattern4(n-1,i+1)\n",
    "        print(\" \"*i+(2*n-1)*\"*\"+\" \"*(i))\n",
    "pattern4(6)"
   ]
  },
  {
   "cell_type": "code",
   "execution_count": 16,
   "metadata": {},
   "outputs": [
    {
     "name": "stdout",
     "output_type": "stream",
     "text": [
      "****\n",
      "***\n",
      "**\n",
      "*\n",
      "*\n",
      "**\n",
      "***\n",
      "****\n"
     ]
    }
   ],
   "source": [
    "def pattern5(n):\n",
    "    if n==0:\n",
    "        return\n",
    "    else:\n",
    "        print(\"*\"*(n))\n",
    "        pattern5(n-1)\n",
    "        print(\"*\"*(n))\n",
    "pattern5(4)"
   ]
  },
  {
   "cell_type": "code",
   "execution_count": 17,
   "metadata": {},
   "outputs": [
    {
     "name": "stdout",
     "output_type": "stream",
     "text": [
      "   *\n",
      "  **\n",
      " ***\n",
      "****\n"
     ]
    }
   ],
   "source": [
    "def pattern6(n,i=0):\n",
    "    if n==0:\n",
    "        return\n",
    "    else:\n",
    "        pattern6(n-1,i+1)\n",
    "        print(\" \"*i+\"*\"*n)\n",
    "pattern6(4)"
   ]
  },
  {
   "cell_type": "code",
   "execution_count": null,
   "metadata": {},
   "outputs": [],
   "source": []
  }
 ],
 "metadata": {
  "kernelspec": {
   "display_name": "Python 3",
   "language": "python",
   "name": "python3"
  },
  "language_info": {
   "codemirror_mode": {
    "name": "ipython",
    "version": 3
   },
   "file_extension": ".py",
   "mimetype": "text/x-python",
   "name": "python",
   "nbconvert_exporter": "python",
   "pygments_lexer": "ipython3",
   "version": "3.12.10"
  }
 },
 "nbformat": 4,
 "nbformat_minor": 2
}
