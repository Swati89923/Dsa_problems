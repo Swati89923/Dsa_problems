{
 "cells": [
  {
   "cell_type": "markdown",
   "id": "059fddfb",
   "metadata": {},
   "source": [
    "Reverse a LinkedList"
   ]
  },
  {
   "cell_type": "code",
   "execution_count": 3,
   "id": "773e962e",
   "metadata": {},
   "outputs": [],
   "source": [
    "class Node:\n",
    "    def __init__(self,data,next=None):\n",
    "        self.data=data\n",
    "        self.next=next\n",
    "class LinkedList:\n",
    "\n",
    "    def reverse(self,start):\n",
    "        prev=None\n",
    "        current=start\n",
    "        while current != None:\n",
    "            next=current.next\n",
    "            current.next=prev\n",
    "            prev=current\n",
    "            current=next\n",
    "        return prev\n",
    "\n",
    "\n",
    "\n",
    "\n"
   ]
  },
  {
   "cell_type": "code",
   "execution_count": null,
   "id": "bc67394e",
   "metadata": {},
   "outputs": [],
   "source": [
    "def reverse_for_interval(self,start,k):\n",
    "    prev=None\n",
    "    curr=self.start\n",
    "    count=0\n",
    "    while curr != None and count<k:\n",
    "        next=curr.next\n",
    "        curr.next=prev\n",
    "        prev=curr\n",
    "        curr=next\n",
    "        count+=1\n",
    "    if next != None:\n",
    "        start.next = self.reverse(next,k)\n",
    "    return prev"
   ]
  },
  {
   "cell_type": "markdown",
   "id": "af8e23d0",
   "metadata": {},
   "source": [
    "Detect a loop in linkkedlist"
   ]
  },
  {
   "cell_type": "code",
   "execution_count": 5,
   "id": "495a7abc",
   "metadata": {},
   "outputs": [],
   "source": [
    "def detect(self,start):\n",
    "    slow=start\n",
    "    fast=start\n",
    "    while fast and fast.next:\n",
    "        slow=slow.next\n",
    "        fast=fast.next.next\n",
    "        if slow==fast:\n",
    "            return True\n",
    "    return False\n"
   ]
  },
  {
   "cell_type": "markdown",
   "id": "3f612f5c",
   "metadata": {},
   "source": [
    "Delete a loop in linkedlist in python"
   ]
  },
  {
   "cell_type": "code",
   "execution_count": 6,
   "id": "703ca08b",
   "metadata": {},
   "outputs": [],
   "source": [
    "def del_loop(self,start):\n",
    "    slow=start\n",
    "    fast=start\n",
    "    while fast and fast.next:\n",
    "        slow=slow.next\n",
    "        fast=fast.next.next\n",
    "        if  slow==fast:\n",
    "            break\n",
    "    else:\n",
    "            return \n",
    "    \n",
    "    slow=start\n",
    "    if slow==fast:\n",
    "         while fast.next != slow:\n",
    "              fast=fast.next\n",
    "    else:\n",
    "         while slow.next != fast.next:\n",
    "              slow=slow.next\n",
    "              fast=fast.next\n",
    "    fast.next=None\n",
    "    \n"
   ]
  },
  {
   "cell_type": "markdown",
   "id": "739ac7a3",
   "metadata": {},
   "source": [
    "Find the starting point of loop in linkedlist"
   ]
  },
  {
   "cell_type": "code",
   "execution_count": 7,
   "id": "7c613c3e",
   "metadata": {},
   "outputs": [],
   "source": [
    "def loop_start(self,start):\n",
    "    slow=start\n",
    "    fast=start\n",
    "    while fast and fast.next:\n",
    "        slow=slow.next\n",
    "        fast=fast.next.next\n",
    "        if slow==fast:\n",
    "            break\n",
    "    else:\n",
    "        return\n",
    "    if slow.next==start and fast.next==start:\n",
    "        return start.data\n",
    "    slow=start\n",
    "    while slow.next != fast.next:\n",
    "        slow=slow.next\n",
    "        fast=fast.next\n",
    "    return fast.next.data"
   ]
  },
  {
   "cell_type": "markdown",
   "id": "555fcb2f",
   "metadata": {},
   "source": [
    "to find length of loop"
   ]
  },
  {
   "cell_type": "code",
   "execution_count": 5,
   "id": "84b5483c",
   "metadata": {},
   "outputs": [],
   "source": [
    "def find_loop_length(self, start):\n",
    "    slow = start\n",
    "    fast = start\n",
    "\n",
    "    # Step 1: Detect loop using Floyd’s Cycle Detection\n",
    "    while fast and fast.next:\n",
    "        slow = slow.next            # Slow pointer ek step chalta hai\n",
    "        fast = fast.next.next       # Fast pointer do steps chalta hai\n",
    "        if slow == fast:\n",
    "            break                   # Agar slow aur fast mil jaate hain to loop hai\n",
    "    else:\n",
    "        return 0                     # Agar loop nahi hai to 0 return karo\n",
    "\n",
    "    # Step 2: Loop length find karna\n",
    "    length = 1                    # Loop mein ek node already hai\n",
    "    temp = slow.next              # Slow ko next node pe move kar do\n",
    "    while temp != slow:           # Jab tak temp slow ke barabar nahi ho jaata\n",
    "        length += 1               # Har step mein length ko increment karo\n",
    "        temp = temp.next\n",
    "    return length                 # Final length return karo\n"
   ]
  },
  {
   "cell_type": "markdown",
   "id": "d0f120d8",
   "metadata": {},
   "source": [
    "Remove duplicates  in sorted linkedlist|"
   ]
  },
  {
   "cell_type": "code",
   "execution_count": 9,
   "id": "230e67fd",
   "metadata": {},
   "outputs": [],
   "source": [
    "def remove_dup(self,start):\n",
    "    current=start\n",
    "    while current and current.next:\n",
    "        if current.data == current.next.data:\n",
    "            current.next=current.next.next\n",
    "        current=current.next"
   ]
  },
  {
   "cell_type": "markdown",
   "id": "bd9713e3",
   "metadata": {},
   "source": [
    "Remove duplicate in unsorted linkedlist"
   ]
  },
  {
   "cell_type": "code",
   "execution_count": 6,
   "id": "342a64f6",
   "metadata": {},
   "outputs": [],
   "source": [
    "def remove_duplicate(self, start):\n",
    "    curren = start  # Starting point, curren ko start pe set karte hain\n",
    "\n",
    "    while curren != None:  # Jab tak curren (current node) None nahi hota\n",
    "        runner = curren    # Runner pointer ko curren ke barabar set karte hain\n",
    "\n",
    "        # Ab runner ko use karte hain aage ki nodes check karne ke liye\n",
    "        while runner.next != None:  # Jab tak runner ke next node hai\n",
    "            if runner.next.data == curren.data:  # Agar runner ki next node ka data curren ke data se match kar raha ho\n",
    "                runner.next = runner.next.next  # Toh current node ke next ko uske next node ka next set kar do (duplicate remove)\n",
    "            runner = runner.next  # Runner ko next node pe move karte hain\n",
    "\n",
    "        curren = curren.next  # Curren ko next node pe move karte hain\n"
   ]
  },
  {
   "cell_type": "markdown",
   "id": "e86151c2",
   "metadata": {},
   "source": [
    "Frequency in LinkedList"
   ]
  },
  {
   "cell_type": "code",
   "execution_count": 5,
   "id": "6bbc38bf",
   "metadata": {},
   "outputs": [],
   "source": [
    "def frequency(start):\n",
    "    slow=start\n",
    "    fast =start\n",
    "    \n",
    "    while fast != None and fast.next != None:\n",
    "        slow=slow.next\n",
    "        fast=fast.next.next\n",
    "\n",
    "        if slow==fast:\n",
    "            count=1\n",
    "            fast=fast.next\n",
    "            while fast !=slow:\n",
    "                fast=fast.next\n",
    "                count+=1\n",
    "            return count\n",
    "\n",
    "    return 0\n"
   ]
  },
  {
   "cell_type": "markdown",
   "id": "2a42b745",
   "metadata": {},
   "source": [
    "Count linkedlist nodes"
   ]
  },
  {
   "cell_type": "code",
   "execution_count": 6,
   "id": "de9949f0",
   "metadata": {},
   "outputs": [],
   "source": [
    "def count(self):\n",
    "    temp=self.start\n",
    "    coun=0\n",
    "    while temp != None:\n",
    "        temp=temp.next\n",
    "        coun+=1\n",
    "    return coun"
   ]
  },
  {
   "cell_type": "markdown",
   "id": "5c9732d3",
   "metadata": {},
   "source": [
    " Find middle element"
   ]
  },
  {
   "cell_type": "code",
   "execution_count": 1,
   "id": "85deb3aa",
   "metadata": {},
   "outputs": [],
   "source": [
    "def find_middle(self,start):\n",
    "    slow= start\n",
    "    fast= start\n",
    "    while fast != None and fast.next != None:\n",
    "        slow=slow.next\n",
    "        fast=fast.next.next\n",
    "    return slow.data"
   ]
  },
  {
   "cell_type": "markdown",
   "id": "a3436bb0",
   "metadata": {},
   "source": [
    "for removing middle element from linkedlist"
   ]
  },
  {
   "cell_type": "code",
   "execution_count": 7,
   "id": "9f2bc89d",
   "metadata": {},
   "outputs": [],
   "source": [
    "def middle(self):\n",
    "    slow = self.start  # Slow pointer ko start node pe set karte hain\n",
    "    fast = self.start  # Fast pointer ko bhi start node pe set karte hain\n",
    "\n",
    "    # Step 1: Fast aur slow pointers ko move karte hain\n",
    "    while fast and fast.next:  # Jab tak fast aur fast.next exist karte hain\n",
    "        slow = slow.next      # Slow pointer ko ek step aage move karte hain\n",
    "        fast = fast.next.next # Fast pointer ko do steps aage move karte hain\n",
    "\n",
    "    # Step 2: Slow pointer ab middle node ko point kar raha hai\n",
    "    # Now, we need to remove the middle node:\n",
    "    if slow == self.start:  # Special case: Agar linked list ka size 1 ho\n",
    "        self.start = None  # Linked list ko empty kar do\n",
    "    else:\n",
    "        temp = self.start\n",
    "        while temp.next != slow:  # Jab tak temp ka next slow ke barabar na ho\n",
    "            temp = temp.next  # Temp ko aage move karte hain\n",
    "        temp.next = slow.next  # Temp ka next, slow ke next ko point karega (middle ko remove kar diya)\n"
   ]
  },
  {
   "cell_type": "code",
   "execution_count": 5,
   "id": "9e3c7d6f",
   "metadata": {},
   "outputs": [],
   "source": [
    "def is_palindrome(self):\n",
    "    # Step 1: Reverse the linked list\n",
    "    prev = None\n",
    "    curr = self.start\n",
    "    while curr:\n",
    "        next_node = curr.next\n",
    "        curr.next = prev\n",
    "        prev = curr\n",
    "        curr = next_node\n",
    "\n",
    "    # Step 2: Compare original and reversed list (need two pointers)\n",
    "    # For simplicity, assume self.start still points to the head\n",
    "    head1 = self.start  # Original (now reversed)\n",
    "    head2 = prev        # Reversed head\n",
    "\n",
    "    while head1 and head2:\n",
    "        if head1.data != head2.data:\n",
    "            return False\n",
    "        head1 = head1.next\n",
    "        head2 = head2.next\n",
    "\n",
    "    return True\n"
   ]
  },
  {
   "cell_type": "code",
   "execution_count": null,
   "id": "a14d2388",
   "metadata": {},
   "outputs": [],
   "source": [
    "# find middle using two pointer and size\n",
    "# find height of the tree\n",
    "# seach an element in bst"
   ]
  },
  {
   "cell_type": "code",
   "execution_count": 1,
   "id": "c6ca36b9",
   "metadata": {},
   "outputs": [],
   "source": [
    "def bstsearch(root,key):\n",
    "    if root is None or root.data == key:\n",
    "        return root\n",
    "    if key< root.data:\n",
    "        return bstsearch(root.left,key)\n",
    "    else:\n",
    "        return bstsearch(root.right,key)"
   ]
  },
  {
   "cell_type": "markdown",
   "id": "fa20b5f2",
   "metadata": {},
   "source": [
    "# Sorting linkedlist"
   ]
  },
  {
   "cell_type": "code",
   "execution_count": 1,
   "id": "421e8244",
   "metadata": {},
   "outputs": [
    {
     "name": "stdout",
     "output_type": "stream",
     "text": [
      "Original List:\n",
      "5 -> 1 -> 4 -> 3 -> 2 -> None\n",
      "Sorted List:\n",
      "1 -> 2 -> 3 -> 4 -> 5 -> None\n"
     ]
    }
   ],
   "source": [
    "class Node:\n",
    "    def __init__(self, data):\n",
    "        self.data = data\n",
    "        self.next = None\n",
    "\n",
    "# Function to print the linked list\n",
    "def print_list(head):\n",
    "    current = head\n",
    "    while current:\n",
    "        print(current.data, end=\" -> \")\n",
    "        current = current.next\n",
    "    print(\"None\")\n",
    "\n",
    "# Function to find the middle of the list\n",
    "def get_middle(head):\n",
    "    if not head or not head.next:\n",
    "        return head\n",
    "    slow = head\n",
    "    fast = head.next\n",
    "    while fast and fast.next:\n",
    "        slow = slow.next\n",
    "        fast = fast.next.next\n",
    "    return slow\n",
    "\n",
    "# Function to merge two sorted linked lists\n",
    "def merge_sorted_lists(left, right):\n",
    "    if not left:\n",
    "        return right\n",
    "    if not right:\n",
    "        return left\n",
    "\n",
    "    if left.data <= right.data:\n",
    "        result = left\n",
    "        result.next = merge_sorted_lists(left.next, right)\n",
    "    else:\n",
    "        result = right\n",
    "        result.next = merge_sorted_lists(left, right.next)\n",
    "    return result\n",
    "\n",
    "# Merge sort for linked list\n",
    "def sort_linked_list(head):\n",
    "    if not head or not head.next:\n",
    "        return head\n",
    "\n",
    "    middle = get_middle(head)\n",
    "    next_half = middle.next\n",
    "    middle.next = None\n",
    "\n",
    "    left = sort_linked_list(head)\n",
    "    right = sort_linked_list(next_half)\n",
    "\n",
    "    return merge_sorted_lists(left, right)\n",
    "\n",
    "# ---------- Example Usage ----------\n",
    "# Creating unsorted linked list: 5 -> 1 -> 4 -> 3 -> 2\n",
    "head = Node(5)\n",
    "head.next = Node(1)\n",
    "head.next.next = Node(4)\n",
    "head.next.next.next = Node(3)\n",
    "head.next.next.next.next = Node(2)\n",
    "\n",
    "print(\"Original List:\")\n",
    "print_list(head)\n",
    "\n",
    "sorted_head = sort_linked_list(head)\n",
    "\n",
    "print(\"Sorted List:\")\n",
    "print_list(sorted_head)\n"
   ]
  },
  {
   "cell_type": "code",
   "execution_count": 1,
   "id": "b2d6b089",
   "metadata": {},
   "outputs": [
    {
     "name": "stdout",
     "output_type": "stream",
     "text": [
      "9 \n",
      "9 8 \n",
      "9 7 8 \n",
      "8 7 9 \n",
      "7\n",
      "8 7 9 \n",
      "7 9 \n",
      "7 \n"
     ]
    }
   ],
   "source": [
    "class Node:\n",
    "\n",
    "    def __init__(self,data,next):\n",
    "        self.data=data\n",
    "        self.next=next\n",
    "\n",
    "class LinkedList:\n",
    "\n",
    "    def __init__(self):\n",
    "        self.start=None\n",
    "    \n",
    "    def insert_first(self,item):\n",
    "        nd=Node(item,self.start)\n",
    "        self.start=nd\n",
    "    def insert_last(self,item):\n",
    "        if self.start==None:\n",
    "            self.insert_first()\n",
    "        nd=Node(item,None)\n",
    "        temp=self.start\n",
    "        while  temp.next != None :\n",
    "            temp=temp.next\n",
    "        temp.next=nd\n",
    "    def insert_after(self,targeted, item):                 #do again\n",
    "       temp=self.start\n",
    "       while temp.next != None:\n",
    "           if temp.data == targeted:\n",
    "               nd=Node(item,temp.next)\n",
    "               temp.next=nd\n",
    "           temp=temp.next\n",
    "    def delete_first(self):\n",
    "        if self.start==None:\n",
    "            return \"can't delete\"\n",
    "        else:\n",
    "            self.start=self.start.next\n",
    "    def delete_last(self):\n",
    "        if self.start==None:\n",
    "            return \"not possible\"\n",
    "        temp=self.start\n",
    "        while temp.next.next != None:\n",
    "            temp=temp.next\n",
    "        temp.next=None\n",
    "    def delete_after(self,targeted):                        #do again\n",
    "        temp=self.start\n",
    "        while temp!= None:\n",
    "            if temp.data==targeted:\n",
    "                if temp.next != None:\n",
    "                    temp.next=temp.next.next\n",
    "             \n",
    "            temp=temp.next\n",
    "    \n",
    "    def find_element(self,item):\n",
    "        temp=self.start\n",
    "        while temp != None:\n",
    "            if temp.data==item:\n",
    "                return\n",
    "            temp=temp.next\n",
    "    \n",
    "    def reverse(self):                                      #do again and again\n",
    "        prev=None\n",
    "        temp=self.start\n",
    "        while temp != None:\n",
    "            next_node=temp.next\n",
    "            temp.next=prev\n",
    "            prev=temp\n",
    "            temp=next_node\n",
    "        self.start=prev\n",
    "\n",
    "    def find_miiddle(self):                            #do again\n",
    "        slow=self.start\n",
    "        fast=self.start\n",
    "        while fast is not None and fast.next is not None:\n",
    "            slow=slow.next\n",
    "            fast=fast.next.next\n",
    "        return slow\n",
    "    def display(self):\n",
    "        temp=self.start\n",
    "        while temp != None:\n",
    "            print(temp.data,end=\" \")\n",
    "            temp=temp.next\n",
    "        print()\n",
    "sl1=LinkedList()\n",
    "sl1.insert_first(9)\n",
    "sl1.display()\n",
    "sl1.insert_last(8)\n",
    "sl1.display()\n",
    "sl1.insert_after(9,7)\n",
    "sl1.display()\n",
    "sl1.reverse()\n",
    "sl1.display()\n",
    "middle_node=sl1.find_miiddle()\n",
    "print(middle_node.data)\n",
    "sl1.display()\n",
    "sl1.delete_first()\n",
    "sl1.display()\n",
    "sl1.delete_after(7)\n",
    "sl1.display()\n"
   ]
  },
  {
   "cell_type": "markdown",
   "id": "88151ef0",
   "metadata": {},
   "source": [
    "You are given two non-empty linked lists representing two non-negative integers. The digits are stored in reverse order, and each of their nodes contains a single digit. Add the two numbers and return the sum as a linked list.\n",
    "You may assume the two numbers do not contain any leading zero, except the number 0 itself.\n",
    "\n",
    "Input: l1 = [2,4,3], l2 = [5,6,4]\n",
    "Output: [7,0,8]\n",
    "Explanation: 342 + 465 = 807."
   ]
  },
  {
   "cell_type": "code",
   "execution_count": 2,
   "id": "93580a5f",
   "metadata": {},
   "outputs": [],
   "source": [
    "# l1=LinkedList()\n",
    "# l2=LinkedList()\n",
    "# l1.reverse()\n",
    "# l2.reverse()\n",
    "# def add_list(self,l1,l2):\n",
    "#     l3=LinkedList()\n",
    "#     while len(l1) != 0 and len(l2) != 0:\n",
    "#        l3.insert_last(l1.delete_first()+l2.delete_first())\n",
    "#     return l3\n",
    "\n",
    "\n",
    "def add_list(self, l1, l2):\n",
    "    l3 = LinkedList()\n",
    "    carry = 0\n",
    "    while not l1.is_empty() or not l2.is_empty() or carry != 0:\n",
    "        val1 = l1.delete_first() if not l1.is_empty() else 0\n",
    "        val2 = l2.delete_first() if not l2.is_empty() else 0\n",
    "\n",
    "        total = val1 + val2 + carry\n",
    "        carry = total // 10\n",
    "        l3.insert_last(total % 10)\n",
    "\n",
    "    return l3\n"
   ]
  },
  {
   "cell_type": "markdown",
   "id": "130d31aa",
   "metadata": {},
   "source": [
    "Question :2  Odd Even Linked List\n",
    "Given the head of a singly linked list, group all the nodes with odd indices together followed by the nodes with even indices, and return the reordered list.The first node is considered odd, and the second node is even, and so on.\n",
    "Note that the relative order inside both the even and odd groups should remain as it was in the input.\n",
    "You must solve the problem in O(1) extra space complexity and O(n) time complexity.\n",
    "\n",
    "Input: head = [1,2,3,4,5]\n",
    "Output: [1,3,5,2,4]"
   ]
  },
  {
   "cell_type": "code",
   "execution_count": 4,
   "id": "26043bc0",
   "metadata": {},
   "outputs": [],
   "source": [
    "# def seperate_odd_even(self):\n",
    "#     temp=self.start\n",
    "#     new_ll1=LinkedList()\n",
    "#     new_ll2=LinkedList()\n",
    "#     while temp is not None:\n",
    "#         if temp.data % 2 !=0:\n",
    "#             new_ll1.insert_first(temp.data)\n",
    "#         elif temp.data % 2 ==0:\n",
    "#             new_ll2.insert_first(temp.data)\n",
    "#         temp=temp.next\n",
    "#     return new_ll1+new_ll2\n",
    "\n",
    "    \n",
    "\n",
    "\n",
    "def seperate_odd_even(self):\n",
    "    if self.start is None or self.start.next is None:\n",
    "        return self.start\n",
    "\n",
    "    odd = self.start\n",
    "    even = self.start.next\n",
    "    even_head = even\n",
    "\n",
    "    while even is not None and even.next is not None:\n",
    "        odd.next = even.next\n",
    "        odd = odd.next\n",
    "        even.next = odd.next\n",
    "        even = even.next\n",
    "\n",
    "    odd.next = even_head\n",
    "    return self.start\n"
   ]
  },
  {
   "cell_type": "code",
   "execution_count": null,
   "id": "94a359cd",
   "metadata": {},
   "outputs": [],
   "source": []
  },
  {
   "cell_type": "markdown",
   "id": "84db4f32",
   "metadata": {},
   "source": [
    "A number is represented in linked list such that each digit corresponds to a node in linked list. The task is to add 1 to it.\n",
    "Input: head: 4 -> 5 -> 6\n",
    "Output: head: 4 -> 5 -> 7\n",
    "Explanation: Adding 1 to number represented by Linked List = 456 + 1 = 457\n"
   ]
  },
  {
   "cell_type": "code",
   "execution_count": 3,
   "id": "b18283aa",
   "metadata": {},
   "outputs": [],
   "source": [
    "def add_1(self):\n",
    "    def reverse(head):\n",
    "        prev = None\n",
    "        while head:\n",
    "            nxt = head.next\n",
    "            head.next = prev\n",
    "            prev = head\n",
    "            head = nxt\n",
    "        return prev\n",
    "\n",
    "    # Step 1: Reverse the list\n",
    "    self.start = reverse(self.start)\n",
    "\n",
    "    # Step 2: Add 1\n",
    "    temp = self.start\n",
    "    carry = 1\n",
    "    while temp:\n",
    "        temp.data += carry\n",
    "        carry = temp.data // 10\n",
    "        temp.data %= 10\n",
    "        if not temp.next and carry:\n",
    "            temp.next = Node(0)\n",
    "        temp = temp.next\n",
    "        if carry == 0:\n",
    "            break\n",
    "\n",
    "    # Step 3: Reverse back\n",
    "    self.start = reverse(self.start)\n"
   ]
  },
  {
   "cell_type": "markdown",
   "id": "1fde7c77",
   "metadata": {},
   "source": []
  }
 ],
 "metadata": {
  "kernelspec": {
   "display_name": "Python 3",
   "language": "python",
   "name": "python3"
  },
  "language_info": {
   "codemirror_mode": {
    "name": "ipython",
    "version": 3
   },
   "file_extension": ".py",
   "mimetype": "text/x-python",
   "name": "python",
   "nbconvert_exporter": "python",
   "pygments_lexer": "ipython3",
   "version": "3.12.10"
  }
 },
 "nbformat": 4,
 "nbformat_minor": 5
}
