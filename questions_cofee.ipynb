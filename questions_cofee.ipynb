{
 "cells": [
  {
   "cell_type": "markdown",
   "id": "ea9974df",
   "metadata": {},
   "source": [
    "# Implement a Dynamic List in Python"
   ]
  },
  {
   "cell_type": "code",
   "execution_count": 12,
   "id": "ddbc8587",
   "metadata": {},
   "outputs": [
    {
     "name": "stdout",
     "output_type": "stream",
     "text": [
      "99 91 \n",
      "99 91 96 98 \n"
     ]
    }
   ],
   "source": [
    "class DynamicList:\n",
    "\n",
    "    def __init__(self):\n",
    "        self.capacity=2\n",
    "        self.size=0\n",
    "        self.data=[None]*2  \n",
    "    def append(self,value):\n",
    "        if self.size==self.capacity:\n",
    "            self.resize()\n",
    "        self.data[self.size]=value\n",
    "        self.size+=1\n",
    "    def resize(self):\n",
    "        new_capacity=self.capacity*2\n",
    "        new_data=[None]*new_capacity\n",
    "        for i in range(self.size):\n",
    "            new_data[i] = self.data[i]\n",
    "        self.data=new_data\n",
    "        self.capacity=new_capacity\n",
    "    def get(self,index):\n",
    "        if 0<=index<self.size:\n",
    "            return self.data[index]\n",
    "        raise IndexError(\"not do\")\n",
    "    def show(self):\n",
    "        for i in range(self.size):\n",
    "            print(self.data[i],end=\" \")\n",
    "        print()\n",
    "    def remove(self,index):\n",
    "        if 0<=index<self.size:\n",
    "            for i in range(index,self.size-1):\n",
    "                self.data[i]=self.data[i+1]\n",
    "            self.data[self.size-1]=None\n",
    "            self.size-=1\n",
    "        else:\n",
    "            raise IndexError(\"not do\")\n",
    "    def  size_(self):\n",
    "        return self.size\n",
    "    def capacity_(self):\n",
    "        return self.capacity\n",
    "d1=DynamicList()\n",
    "d1.append(99)\n",
    "d1.append(91)\n",
    "d1.show()\n",
    "d1.resize()\n",
    "d1.append(96)\n",
    "d1.append(98)\n",
    "d1.show()"
   ]
  },
  {
   "cell_type": "markdown",
   "id": "4d201153",
   "metadata": {},
   "source": [
    "# Giving two numbers \"a\" and \"b\" ,swap them without using a third variable .Returrn \"a\" and \"b\" with a swapped value\n",
    "         "
   ]
  },
  {
   "cell_type": "code",
   "execution_count": 13,
   "id": "b29e496f",
   "metadata": {},
   "outputs": [
    {
     "data": {
      "text/plain": [
       "(3, 1)"
      ]
     },
     "execution_count": 13,
     "metadata": {},
     "output_type": "execute_result"
    }
   ],
   "source": [
    "def swap(a,b):\n",
    "    return(b,a)\n",
    "swap(1,3)"
   ]
  },
  {
   "cell_type": "code",
   "execution_count": 14,
   "id": "f17d9cec",
   "metadata": {},
   "outputs": [
    {
     "name": "stdout",
     "output_type": "stream",
     "text": [
      "(3, 1)\n"
     ]
    }
   ],
   "source": [
    "def swap(a, b):\n",
    "    a = a + b\n",
    "    b = a - b\n",
    "    a = a - b\n",
    "    return a, b\n",
    "\n",
    "print(swap(1, 3))  # ➜ Output: (3, 1)\n"
   ]
  },
  {
   "cell_type": "markdown",
   "id": "bef0b535",
   "metadata": {},
   "source": [
    "# Given an array of integers nums which is sorted in ascending order, and an integer target, write a function to search target in nums. If the target exists, then return its index. Otherwise, return -1.\n",
    "You must write an algorithm with O(log n) runtime complexity.\n",
    "Input: nums = [-1,0,3,5,9,12], target = 9\n",
    "Output: 4\n",
    "Explanation: 9 exists in nums and its index is 4Examples :"
   ]
  },
  {
   "cell_type": "code",
   "execution_count": 19,
   "id": "4692d06b",
   "metadata": {},
   "outputs": [
    {
     "data": {
      "text/plain": [
       "6"
      ]
     },
     "execution_count": 19,
     "metadata": {},
     "output_type": "execute_result"
    }
   ],
   "source": [
    "def find_targeted(my_list,targeted): # but we have  to do it wwityh  time complexity O(logn)\n",
    "    my_list=sorted(my_list)\n",
    "    for i in range(len(my_list)):\n",
    "        if my_list[i]==targeted:\n",
    "            return i\n",
    "    else:\n",
    "            return -1\n",
    "find_targeted([1,9,8,2,4,3,4,0],8)"
   ]
  },
  {
   "cell_type": "code",
   "execution_count": 2,
   "id": "de71b465",
   "metadata": {},
   "outputs": [
    {
     "data": {
      "text/plain": [
       "1"
      ]
     },
     "execution_count": 2,
     "metadata": {},
     "output_type": "execute_result"
    }
   ],
   "source": [
    "def binary_search(my_list,targeted):\n",
    "    low=0\n",
    "    high=len(my_list)-1\n",
    "    while low<=high:\n",
    "        middle=(low+high)//2\n",
    "        if my_list[middle]==targeted:\n",
    "            return middle\n",
    "        elif my_list[middle]<targeted:\n",
    "            low=middle+1\n",
    "        else:\n",
    "            high=middle-1\n",
    "    return -1\n",
    "binary_search([1,2,3,3,4,5,6],2)"
   ]
  },
  {
   "cell_type": "code",
   "execution_count": 4,
   "id": "6392853c",
   "metadata": {},
   "outputs": [
    {
     "data": {
      "text/plain": [
       "3"
      ]
     },
     "execution_count": 4,
     "metadata": {},
     "output_type": "execute_result"
    }
   ],
   "source": [
    "def bina_search(my_list,n):\n",
    "    low=0\n",
    "    high=len(my_list)\n",
    "    while low<=high:\n",
    "        middle=(low+high)//2\n",
    "        if my_list[middle]==n:\n",
    "            return middle\n",
    "        if my_list[middle]>n:\n",
    "            return middle-1\n",
    "        if my_list[middle]<n:\n",
    "            return middle+1\n",
    "    return \"not found\"\n",
    "bina_search([9,12,13,14,90],14)"
   ]
  },
  {
   "cell_type": "code",
   "execution_count": 6,
   "id": "4399eb68",
   "metadata": {},
   "outputs": [
    {
     "data": {
      "text/plain": [
       "3"
      ]
     },
     "execution_count": 6,
     "metadata": {},
     "output_type": "execute_result"
    }
   ],
   "source": [
    "def linear_search(my_list,n):\n",
    "    for i in range(len(my_list)):\n",
    "        if my_list[i]==n:\n",
    "            return i\n",
    "    return \"not found\"\n",
    "linear_search([8,5,9,4,0],4)"
   ]
  },
  {
   "cell_type": "markdown",
   "id": "95bb61a2",
   "metadata": {},
   "source": [
    "# Given a sorted array of distinct integers and a target value, return the index if the target is found. If not, return the index where it would be if it were inserted in order.\n",
    "You must write an algorithm with O(log n) runtime complexity.\n",
    "Input: nums = [1,3,5,6], target = 5\n",
    "Output: 2"
   ]
  },
  {
   "cell_type": "code",
   "execution_count": 2,
   "id": "f749962a",
   "metadata": {},
   "outputs": [
    {
     "data": {
      "text/plain": [
       "4"
      ]
     },
     "execution_count": 2,
     "metadata": {},
     "output_type": "execute_result"
    }
   ],
   "source": [
    "def searchh_insert(my_liist,targeted):\n",
    "    low=0\n",
    "    high=len(my_liist)-1\n",
    "    while low<=high:\n",
    "        middle =(low+high)//2\n",
    "        if my_liist[middle]==targeted:\n",
    "            return middle\n",
    "        elif my_liist[middle]<targeted:\n",
    "            low=middle+1\n",
    "        elif my_liist[middle]>targeted:\n",
    "            high=middle-1\n",
    "    return low\n",
    "searchh_insert([1,2,4,5,6],5.9)"
   ]
  },
  {
   "cell_type": "markdown",
   "id": "8ee5289a",
   "metadata": {},
   "source": [
    "# Given a sorted array arr[] (with unique elements) and an integer k, find the index (0-based) of the largest element in arr[] that is less than or equal to k. This element is called the \"floor\" of k. If such an element does not exist, return -1.\n",
    "Input: arr[] = [1, 2, 8, 10, 11, 12, 19], k = 5\n",
    "Output: 1"
   ]
  },
  {
   "cell_type": "code",
   "execution_count": 2,
   "id": "2e3e503b",
   "metadata": {},
   "outputs": [
    {
     "data": {
      "text/plain": [
       "3"
      ]
     },
     "execution_count": 2,
     "metadata": {},
     "output_type": "execute_result"
    }
   ],
   "source": [
    "def binary_search_ind(my_list,k):\n",
    "    low=0\n",
    "    high=len(my_list)-1\n",
    "    while low <= high:\n",
    "        middle=(low+high)//2\n",
    "        if my_list[middle]==k:\n",
    "            return middle\n",
    "        elif my_list[middle]<k:\n",
    "            low=middle+1\n",
    "        elif my_list[middle]>k:\n",
    "            high=middle-1\n",
    "    return low-1\n",
    "binary_search_ind([1,7,9,11,89],38)"
   ]
  },
  {
   "cell_type": "code",
   "execution_count": 4,
   "id": "ec0c0e1c",
   "metadata": {},
   "outputs": [
    {
     "data": {
      "text/plain": [
       "3"
      ]
     },
     "execution_count": 4,
     "metadata": {},
     "output_type": "execute_result"
    }
   ],
   "source": [
    "def find_floor(arr, k):\n",
    "    left = 0\n",
    "    right = len(arr) - 1\n",
    "    floor_index = -1  # Default when no floor is found\n",
    "\n",
    "    while left <= right:\n",
    "        mid = (left + right) // 2\n",
    "\n",
    "        if arr[mid] == k:\n",
    "            return mid  # Exact match is the floor\n",
    "\n",
    "        elif arr[mid] < k:\n",
    "            floor_index = mid      # Potential floor found\n",
    "            left = mid + 1         # Try to find a bigger floor\n",
    "\n",
    "        else:\n",
    "            right = mid - 1        # Move to smaller elements\n",
    "\n",
    "    return floor_index\n",
    "find_floor([1,7,9,11,89],38)"
   ]
  },
  {
   "cell_type": "markdown",
   "id": "beed6f49",
   "metadata": {},
   "source": [
    "# Given an array of integers nums sorted in non-decreasing order, find the starting and ending position of a given target value.\n",
    "If the target is not found in the array, return [-1, -1].\n",
    "You must write an algorithm with O(log n) runtime complexity.\n",
    "Input: nums = [5,7,7,8,8,10], target = 8\n",
    "Output: [3,4]"
   ]
  },
  {
   "cell_type": "code",
   "execution_count": 4,
   "id": "398ba491",
   "metadata": {},
   "outputs": [
    {
     "data": {
      "text/plain": [
       "[1, 4]"
      ]
     },
     "execution_count": 4,
     "metadata": {},
     "output_type": "execute_result"
    }
   ],
   "source": [
    "def find_first(my_list,targeted):\n",
    "    start=0\n",
    "    end=len(my_list)-1\n",
    "    first=-1\n",
    "    while start <=end:\n",
    "        mid=(start+end)//2\n",
    "        if my_list[mid]==targeted:\n",
    "            first=mid\n",
    "            end=mid-1\n",
    "        elif my_list[mid]<targeted:\n",
    "            start = mid+1\n",
    "        else:\n",
    "            end=mid-1\n",
    "    return first\n",
    "\n",
    "def find_last(my_list,targeted):\n",
    "    start=0\n",
    "    end=len(my_list)-1\n",
    "    last=-1\n",
    "    while start <= end:\n",
    "        mid=(start+end)//2\n",
    "        if my_list[mid]==targeted:\n",
    "            last=mid\n",
    "            start=mid+1\n",
    "        elif my_list[mid]<targeted:\n",
    "            start=mid+1\n",
    "        else:\n",
    "            end=mid-1\n",
    "    return last\n",
    "def search_range(my_list,targeted):\n",
    "    return [find_first(my_list,targeted),find_last(my_list,targeted)]\n",
    "search_range([1,2,2,2,2,3,4,5],2)"
   ]
  },
  {
   "cell_type": "markdown",
   "id": "4b0c08eb",
   "metadata": {},
   "source": [
    "# Sorting"
   ]
  },
  {
   "cell_type": "code",
   "execution_count": null,
   "id": "3f4c8b87",
   "metadata": {},
   "outputs": [
    {
     "data": {
      "text/plain": [
       "[2, 6, 7, 4, 11]"
      ]
     },
     "execution_count": 4,
     "metadata": {},
     "output_type": "execute_result"
    }
   ],
   "source": [
    "# sellection sort\n",
    "def selection_sort(my_list):\n",
    "    for i in range(len(my_list)):\n",
    "        key=my_list[i]\n",
    "        pos=i\n",
    "        for j in range(len(my_list)):\n",
    "            if my_list[j]>key:\n",
    "                key=my_list[j]\n",
    "                pos=j\n",
    "        my_list[pos],my_list[i]=my_list[i],my_list[pos]\n",
    "    return my_list\n",
    "selection_sort([11,2,6,7,4])\n",
    "\n",
    "\n",
    "# t.c in each caase o(n**2)\n"
   ]
  },
  {
   "cell_type": "code",
   "execution_count": null,
   "id": "7a69cef7",
   "metadata": {},
   "outputs": [
    {
     "data": {
      "text/plain": [
       "[1, 2, 4, 6, 7]"
      ]
     },
     "execution_count": 5,
     "metadata": {},
     "output_type": "execute_result"
    }
   ],
   "source": [
    "# Bubble sort t.c worst o(n2),best(o(n))\n",
    "def bubbble_sort(my_list):\n",
    "    for i in range(len(my_list)):\n",
    "        for j in range(len(my_list)-i-1):\n",
    "            if my_list[j]>my_list[j+1]:\n",
    "               my_list[j],my_list[j+1]=my_list[j+1],my_list[j]\n",
    "    return my_list\n",
    "bubbble_sort([1,2,7,4,6])"
   ]
  },
  {
   "cell_type": "code",
   "execution_count": 6,
   "id": "57b72c0a",
   "metadata": {},
   "outputs": [
    {
     "data": {
      "text/plain": [
       "[1, 1, 2, 8, 7, 9, 10]"
      ]
     },
     "execution_count": 6,
     "metadata": {},
     "output_type": "execute_result"
    }
   ],
   "source": [
    "# modiifiied bubble sort\n",
    "def bub_sort(my_list):\n",
    "    for i in range(len(my_list)):\n",
    "        swapped=False\n",
    "        for j in range(len(my_list)-1):\n",
    "            if my_list[j]>my_list[j+1]:\n",
    "                swapped=True\n",
    "                my_list[j],my_list[j+1]=my_list[j+1],my_list[j]\n",
    "        if swapped==True:\n",
    "            break\n",
    "    return my_list\n",
    "bub_sort([1,2,1,9,8,7,10])"
   ]
  },
  {
   "cell_type": "code",
   "execution_count": 7,
   "id": "81772b4d",
   "metadata": {},
   "outputs": [
    {
     "data": {
      "text/plain": [
       "[1, 3, 6, 45, 87]"
      ]
     },
     "execution_count": 7,
     "metadata": {},
     "output_type": "execute_result"
    }
   ],
   "source": [
    "#insertition sort\n",
    "def inssertion_ssort(my_list):\n",
    "    for i in range(len(my_list)):\n",
    "        key=my_list[i]\n",
    "        j=i-1\n",
    "        while j>=0 and my_list[j]>key:\n",
    "            my_list[j+1]=my_list[j]\n",
    "            j=j-1\n",
    "        my_list[j+1]=key\n",
    "    return my_list\n",
    "inssertion_ssort([1,6,3,45,87])\n"
   ]
  },
  {
   "cell_type": "code",
   "execution_count": 8,
   "id": "cf6c4bd2",
   "metadata": {},
   "outputs": [
    {
     "data": {
      "text/plain": [
       "[10, 9, 4, 2, 1, 0]"
      ]
     },
     "execution_count": 8,
     "metadata": {},
     "output_type": "execute_result"
    }
   ],
   "source": [
    "# quick sort\n",
    "def quick_sort(my_list):\n",
    "    if len(my_list)<1:\n",
    "        return my_list\n",
    "    pivot=my_list[0]\n",
    "    greater=[x for x in my_list if x>pivot]\n",
    "    smaller=[x for x in my_list if x<pivot]\n",
    "    return quick_sort(greater)+[pivot]+quick_sort(smaller)\n",
    "quick_sort([1,4,2,9,10,0])"
   ]
  },
  {
   "cell_type": "code",
   "execution_count": 10,
   "id": "fcc1b7bd",
   "metadata": {},
   "outputs": [
    {
     "data": {
      "text/plain": [
       "[9, 8, 3, 1, 0, -1, -4]"
      ]
     },
     "execution_count": 10,
     "metadata": {},
     "output_type": "execute_result"
    }
   ],
   "source": [
    "def merge_sort(my_list):\n",
    "    if len(my_list)<=1:\n",
    "        return my_list\n",
    "    middle=len(my_list)//2\n",
    "    left_side=merge_sort(my_list[ : middle])\n",
    "    right_side=merge_sort(my_list[middle: ])\n",
    "    return merge(left_side,right_side)\n",
    "def merge(left,right):\n",
    "    i=0\n",
    "    j=0\n",
    "    sorted_list=[]\n",
    "    while i<len(left) and j< len(right):\n",
    "        if left[i]<right[j]:\n",
    "            sorted_list.append(right[j])\n",
    "            j+=1\n",
    "        else:\n",
    "            sorted_list.append(left[i])\n",
    "            i+=1\n",
    "    sorted_list.extend(left[i: ])\n",
    "    sorted_list.extend(right[j: ])\n",
    "    return sorted_list\n",
    "merge_sort([1,9,8,3,0,-1,-4])"
   ]
  },
  {
   "cell_type": "markdown",
   "id": "37654d85",
   "metadata": {},
   "source": [
    "# 1.Given a 1-indexed array of integer numbers that is already sorted in non-decreasing order, find two numbers such that they add up to a specific target number. Let these two numbers be numbers[index1] and numbers[index2] where 1 <= index1 < index2 <= numbers.length.\n",
    "Return the indices of the two numbers, index1 and index2, added by one as an integer array [index1, index2] of length 2.\n",
    "The tests are generated such that there is exactly one solution. You may not use the same element twice.\n",
    "Example-1:Input: numbers = [2,7,11,15], target = 9    Output: [1,2]\n",
    "Explanation: The sum of 2 and 7 is 9. Therefore, index1 = 1, index2 = 2. We return [1, 2].\n",
    "Your solution must use only constant extra space."
   ]
  },
  {
   "cell_type": "code",
   "execution_count": 16,
   "id": "03250f03",
   "metadata": {},
   "outputs": [
    {
     "name": "stdout",
     "output_type": "stream",
     "text": [
      "[0, 1, 3, 4, 6, 8, 9, 55]\n"
     ]
    },
    {
     "data": {
      "text/plain": [
       "[2, 5]"
      ]
     },
     "execution_count": 16,
     "metadata": {},
     "output_type": "execute_result"
    }
   ],
   "source": [
    "def sum_targeted(my_list,k):\n",
    "    my_list=sorted(my_list)\n",
    "    print(my_list)\n",
    "    for i in range(len(my_list)):\n",
    "        for j in range(i+1,len(my_list)):\n",
    "            if my_list[i]+ my_list[j]==k:\n",
    "                return [i+1,j+1]\n",
    "sum_targeted([1,9,8,0,3,4,55,6],7)"
   ]
  },
  {
   "cell_type": "markdown",
   "id": "9704c73e",
   "metadata": {},
   "source": [
    "# 2. Given an array nums with n objects colored red, white, or blue, sort them in-place so that objects of the same color are adjacent, with the colors in the order red, white, and blue.We will use the integers 0, 1, and 2 to represent the color red, white, and blue, respectively.\n",
    "You must solve this problem without using the library's sort function.\n",
    "Example-1: Input: nums = [2,0,2,1,1,0]  Output: [0,0,1,1,2,2]"
   ]
  },
  {
   "cell_type": "code",
   "execution_count": 4,
   "id": "fdc98a10",
   "metadata": {},
   "outputs": [
    {
     "data": {
      "text/plain": [
       "[0, 0, 0, 0, 0, 0, 1, 1, 1, 1, 2, 2]"
      ]
     },
     "execution_count": 4,
     "metadata": {},
     "output_type": "execute_result"
    }
   ],
   "source": [
    "def seperate_color(my_nums):\n",
    "    red_list=[]\n",
    "    for i in my_nums:\n",
    "        if i==0:\n",
    "            red_list.append(0)\n",
    "    white_list=[]\n",
    "    for j in my_nums:\n",
    "        if j==1:\n",
    "            white_list.append(1)\n",
    "    blue_list=[]\n",
    "    for k in my_nums:\n",
    "        if k==2:\n",
    "         blue_list.append(2)\n",
    "    return red_list+white_list+blue_list\n",
    "seperate_color([0,1,2,0,0,0,1,1,0,2,0,1])"
   ]
  },
  {
   "cell_type": "markdown",
   "id": "4b245727",
   "metadata": {},
   "source": [
    "# There are several cards arranged in a row, and each card has an associated number of points. The points are given in the integer array cardPoints.In one step, you can take one card from the beginning or from the end of the row. You have to take exactly k cards.Your score is the sum of the points of the cards you have taken.\n",
    "Given the integer array cardPoints and the integer k, return the maximum score you can obtain.\n",
    "Example:Input: cardPoints = [1,2,3,4,5,6,1], k = 3\n",
    "Output: 12\n",
    "Explanation: After the first step, your score will always be 1. However, choosing the rightmost card first will maximize your total score. The optimal strategy is to take the three cards on the right, giving a final score of 1 + 6 + 5 = 12."
   ]
  },
  {
   "cell_type": "code",
   "execution_count": 9,
   "id": "4d7f60b7",
   "metadata": {},
   "outputs": [
    {
     "name": "stdout",
     "output_type": "stream",
     "text": [
      "17\n"
     ]
    }
   ],
   "source": [
    "def final_score(nums, k):\n",
    "    sum1 = 0\n",
    "    for i in range(k):  # ✅ changed from (k-1) to (k)\n",
    "        sum1 += nums[i]\n",
    "    \n",
    "    sum2 = 0\n",
    "    for j in range(-k, 0):  # ✅ changed range to correctly get last k elements\n",
    "        sum2 += nums[j]\n",
    "        \n",
    "    return max(sum1, sum2)\n",
    "\n",
    "# Test\n",
    "print(final_score([1, 0, 3, 7, 8, 9], 2))  # ✅ Output: 17\n"
   ]
  },
  {
   "cell_type": "markdown",
   "id": "e01bf273",
   "metadata": {},
   "source": [
    "# 2. Solve on LeetCode  Longest Substring Without Repeating Characters\n",
    "Given a string s, find the length of the longest substring without duplicate characters.\n",
    "Example 1:  Input: s = \"abcabcbb\"   Output: 3\n",
    "Explanation: The answer is \"abc\", with the length of 3."
   ]
  },
  {
   "cell_type": "code",
   "execution_count": 13,
   "id": "17b8f493",
   "metadata": {},
   "outputs": [
    {
     "data": {
      "text/plain": [
       "3"
      ]
     },
     "execution_count": 13,
     "metadata": {},
     "output_type": "execute_result"
    }
   ],
   "source": [
    "def len_longest_substring(my_string):\n",
    "    count=0\n",
    "    for i in my_string:\n",
    "        if i == \" \":\n",
    "            \n",
    "          count+=1\n",
    "    return count\n",
    "len_longest_substring(\"i am swati kumari\")\n"
   ]
  },
  {
   "cell_type": "code",
   "execution_count": 15,
   "id": "a0a828b9",
   "metadata": {},
   "outputs": [
    {
     "name": "stdout",
     "output_type": "stream",
     "text": [
      "9\n"
     ]
    }
   ],
   "source": [
    "def len_longest_substring(my_string):\n",
    "    seen = set()\n",
    "    left = 0\n",
    "    max_len = 0\n",
    "\n",
    "    for right in range(len(my_string)):\n",
    "        while my_string[right] in seen:\n",
    "            seen.remove(my_string[left])\n",
    "            left += 1\n",
    "        seen.add(my_string[right])\n",
    "        max_len = max(max_len, right - left + 1)\n",
    "\n",
    "    return max_len\n",
    "\n",
    "# Test\n",
    "print(len_longest_substring(\"i am swati kumari\"))  # Expected: longest substring without repeating characters\n"
   ]
  },
  {
   "cell_type": "markdown",
   "id": "a9279fbc",
   "metadata": {},
   "source": [
    "# Question: Solve  this question using the two pointers Concept on GFG\n",
    "Given an array arr[], the task is to find all possible indices {i, j, k} of triplet {arr[i], arr[j], arr[k]} such that their sum is equal to zero and all indices in a triplet should be distinct (i != j, j != k, k != i). We need to return indices of a triplet in sorted order, i.e., i < j < k.\n",
    "Input: arr[] = {0, -1, 2, -3, 1}\n",
    "Output: {{0, 1, 4}, {2, 3, 4}}\n",
    "Explanation:  Two triplets with sum 0 are:\n",
    "arr[0] + arr[1] + arr[4] = 0 + (-1) + 1 = 0\n",
    "arr[2] + arr[3] + arr[4] = 2 + (-3) + 1 = 0"
   ]
  },
  {
   "cell_type": "code",
   "execution_count": 3,
   "id": "eb2b4cc0",
   "metadata": {},
   "outputs": [
    {
     "data": {
      "text/plain": [
       "[[1, 2, 3], [2, 4, 5], [2, 6, 7]]"
      ]
     },
     "execution_count": 3,
     "metadata": {},
     "output_type": "execute_result"
    }
   ],
   "source": [
    "def tripelet_sum_0(my_array):\n",
    "    new_lst=[]\n",
    "    for i in range(len(my_array)):\n",
    "        for j in range(i+1,len(my_array)):\n",
    "            for k in range(j+1,len(my_array)):\n",
    "                if my_array[i]+my_array[j]+my_array[k]==0:\n",
    "                         new_lst.append([i,j,k])\n",
    "    return new_lst\n",
    "tripelet_sum_0([9,-1,0,1,7,-7,3,-3])\n",
    "\n"
   ]
  },
  {
   "cell_type": "markdown",
   "id": "a01ef912",
   "metadata": {},
   "source": [
    "# Given an integer array nums, return the number of triplets chosen from the array that can make triangles if we take them as side lengths of a triangle.\n",
    "Input: nums = [2,2,3,4]\n",
    "Output: 3\n",
    "Explanation: Valid combinations are:\n",
    "2,3,4 (using the first 2)\n",
    "2,3,4 (using the second 2)\n",
    "2,2,3"
   ]
  },
  {
   "cell_type": "code",
   "execution_count": 6,
   "id": "04cdcdb9",
   "metadata": {},
   "outputs": [
    {
     "data": {
      "text/plain": [
       "([[2, 2, 2], [2, 3, 3], [2, 3, 3]], 3)"
      ]
     },
     "execution_count": 6,
     "metadata": {},
     "output_type": "execute_result"
    }
   ],
   "source": [
    "def triplet_triangle(my_arr):\n",
    "    new_list=[]\n",
    "    for i in range(len(my_arr)):\n",
    "        for j in range(i+1,len(my_arr)):\n",
    "            for k in range(j+1,len(my_arr)):\n",
    "                if my_arr[i]+my_arr[j]>my_arr[k] and my_arr[i]+my_arr[k]>my_arr[j] and my_arr[j]+my_arr[k]>my_arr[i]:\n",
    "                    new_list.append([my_arr[i],my_arr[j],my_arr[j]])\n",
    "    return new_list, len(new_list)\n",
    "triplet_triangle( [2,2,3,4])\n"
   ]
  },
  {
   "cell_type": "markdown",
   "id": "776ac51e",
   "metadata": {},
   "source": [
    "# Given a binary array nums and an integer k, return the maximum number of consecutive 1's in the array if you can flip at most k 0's.\n",
    "Example 1:\n",
    "Input: nums = [1,1,1,0,0,0,1,1,1,1,0], k = 2\n",
    "Output: 6\n",
    "Explanation: [1,1,1,0,0,1,1,1,1,1,1]\n",
    "Bolded numbers were flipped from 0 to 1. The longest subarray is underlined.\n"
   ]
  },
  {
   "cell_type": "code",
   "execution_count": null,
   "id": "68efe2bf",
   "metadata": {},
   "outputs": [],
   "source": []
  },
  {
   "cell_type": "markdown",
   "id": "9e118473",
   "metadata": {},
   "source": [
    "# Given a stack, the task is to sort it such that the top of the stack has the greatest element.\n",
    "Input:\n",
    "Stack: 11 2 32 3 41\n",
    "Output: 41 32 11 3 2\n"
   ]
  },
  {
   "cell_type": "code",
   "execution_count": 17,
   "id": "e19a1be2",
   "metadata": {},
   "outputs": [
    {
     "name": "stdout",
     "output_type": "stream",
     "text": [
      "[11, -12, 158, 171, 18, 19]\n",
      "[-12, 11, 18, 19, 158, 171]\n"
     ]
    }
   ],
   "source": [
    "class stack:\n",
    "    def __init__(self):\n",
    "        self.items=[]\n",
    "    def push(self,data):\n",
    "        self.items.append(data)\n",
    "    def display(self):\n",
    "        return self.items\n",
    "    def sort(self):\n",
    "        for i in range(len(self.items)):\n",
    "            for j in range(len(self.items)-i-1):\n",
    "                if self.items[j]>self.items[j+1]:\n",
    "                    self.items[j],self.items[j+1]=self.items[j+1],self.items[j]\n",
    "        return self.items\n",
    "s1=stack()\n",
    "s1.push(11)\n",
    "s1.push(-12)\n",
    "s1.push(158)\n",
    "s1.push(171)\n",
    "s1.push(18)\n",
    "s1.push(19)\n",
    "print(s1.display())\n",
    "\n",
    "s1.sort()\n",
    "print(s1.display())"
   ]
  },
  {
   "cell_type": "markdown",
   "id": "8e8c52eb",
   "metadata": {},
   "source": [
    "# You are given a stack St. You have to reverse the stack using recursion.\n",
    "Input:  St = {3,2,1,7,6}\n",
    "Output:       {6,7,1,2,3}\n",
    "Explanation:\n",
    "Input stack after reversing will look like the stack in the output."
   ]
  },
  {
   "cell_type": "code",
   "execution_count": 24,
   "id": "828f93db",
   "metadata": {},
   "outputs": [
    {
     "name": "stdout",
     "output_type": "stream",
     "text": [
      "[11, -12, 158, 171, 18, 19]\n",
      "[19, 18, 171, 158, -12, 11]\n"
     ]
    }
   ],
   "source": [
    "class stack:\n",
    "    def __init__(self):\n",
    "        self.items=[]\n",
    "    def push(self,data):\n",
    "        self.items.append(data)\n",
    "    def display(self):\n",
    "        return self.items\n",
    "    def reverse_stack(self):\n",
    "         if len(self.items)==0:\n",
    "             return self.items\n",
    "         else:\n",
    "             temp=self.items.pop()\n",
    "             self.reverse_stack()\n",
    "             self.items.insert(0,temp)\n",
    "s1=stack()\n",
    "s1.push(11)\n",
    "s1.push(-12)\n",
    "s1.push(158)\n",
    "s1.push(171)\n",
    "s1.push(18)\n",
    "s1.push(19)\n",
    "print(s1.display())\n",
    "s1.reverse_stack()\n",
    "print(s1.display())"
   ]
  },
  {
   "cell_type": "markdown",
   "id": "d400b285",
   "metadata": {},
   "source": [
    "# Implement pow(x, n), which calculates x raised to the power n (i.e., xn).\n",
    "Example 1:\n",
    "Input: x = 2.00000, n = 10\n",
    "Output: 1024.00000\n",
    "Example 2:\n",
    "Input: x = 2.00000, n = -2\n",
    "Output: 0.25000\n",
    "Explanation: 2-2 = 1/22 = 1/4 = 0.25"
   ]
  },
  {
   "cell_type": "code",
   "execution_count": 33,
   "id": "7bd082ad",
   "metadata": {},
   "outputs": [
    {
     "data": {
      "text/plain": [
       "0.25"
      ]
     },
     "execution_count": 33,
     "metadata": {},
     "output_type": "execute_result"
    }
   ],
   "source": [
    "def pow(x,n):\n",
    "   \n",
    "    if n==0:\n",
    "        return 1\n",
    "    elif n>0:\n",
    "        return x*pow(x,n-1)\n",
    "    else:\n",
    "        return 1/pow(x,-n)\n",
    "        \n",
    "pow(2.000000,-2)"
   ]
  }
 ],
 "metadata": {
  "kernelspec": {
   "display_name": "Python 3",
   "language": "python",
   "name": "python3"
  },
  "language_info": {
   "codemirror_mode": {
    "name": "ipython",
    "version": 3
   },
   "file_extension": ".py",
   "mimetype": "text/x-python",
   "name": "python",
   "nbconvert_exporter": "python",
   "pygments_lexer": "ipython3",
   "version": "3.12.10"
  }
 },
 "nbformat": 4,
 "nbformat_minor": 5
}
