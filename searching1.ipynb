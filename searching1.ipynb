{
 "cells": [
  {
   "cell_type": "markdown",
   "metadata": {},
   "source": [
    "linear search"
   ]
  },
  {
   "cell_type": "code",
   "execution_count": 1,
   "metadata": {},
   "outputs": [
    {
     "data": {
      "text/plain": [
       "5"
      ]
     },
     "execution_count": 1,
     "metadata": {},
     "output_type": "execute_result"
    }
   ],
   "source": [
    "def linear_search(my_list,data): # time complexity n\n",
    "    for i in range(len(my_list)):\n",
    "        if my_list[i]==data:\n",
    "            return i\n",
    "    \n",
    "    return \"not_found\"\n",
    "linear_search([1,2,3,4,6,7,9],7)"
   ]
  },
  {
   "cell_type": "markdown",
   "metadata": {},
   "source": [
    "binary search"
   ]
  },
  {
   "cell_type": "code",
   "execution_count": 17,
   "metadata": {},
   "outputs": [
    {
     "name": "stdout",
     "output_type": "stream",
     "text": [
      "[2, 4, 5, 7, 8, 9]\n",
      "[7, 8, 9]\n",
      "[7]\n",
      "3\n"
     ]
    }
   ],
   "source": [
    "def binary_search(my_list, data):\n",
    "    my_list = sorted(my_list)  # Sort before calculating middle\n",
    "    low = 0\n",
    "    high = len(my_list) - 1\n",
    "    middle = (low + high) // 2\n",
    "    print(my_list)\n",
    "\n",
    "    if my_list[middle] == data:\n",
    "        return middle\n",
    "    elif my_list[middle] > data:\n",
    "        return binary_search(my_list[:middle], data)\n",
    "    elif my_list[middle] < data:\n",
    "        result = binary_search(my_list[middle + 1:], data)\n",
    "        if result == \"not_found\":\n",
    "            return \"not_found\"\n",
    "        else:\n",
    "            return middle + 1 + result\n",
    "    else:\n",
    "        return \"not_found\"\n",
    "\n",
    "print(binary_search([2, 9, 8, 7, 4, 5], 7))\n"
   ]
  }
 ],
 "metadata": {
  "kernelspec": {
   "display_name": "Python 3",
   "language": "python",
   "name": "python3"
  },
  "language_info": {
   "codemirror_mode": {
    "name": "ipython",
    "version": 3
   },
   "file_extension": ".py",
   "mimetype": "text/x-python",
   "name": "python",
   "nbconvert_exporter": "python",
   "pygments_lexer": "ipython3",
   "version": "3.12.10"
  }
 },
 "nbformat": 4,
 "nbformat_minor": 2
}
