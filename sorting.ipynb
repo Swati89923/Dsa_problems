{
 "cells": [
  {
   "cell_type": "markdown",
   "metadata": {},
   "source": [
    "bubble sort"
   ]
  },
  {
   "cell_type": "code",
   "execution_count": 1,
   "metadata": {},
   "outputs": [],
   "source": [
    "def bubble_sort(my_list):\n",
    "    for i in range(len(my_list)):\n",
    "        for j in range(i,len(my_list)):\n",
    "            if my_list[j]>my_list[j+1]:\n",
    "                my_list[j],my_list[j+1]=my_list[j+1],my_list[j]\n",
    "    return my_list"
   ]
  },
  {
   "cell_type": "code",
   "execution_count": 1,
   "metadata": {},
   "outputs": [
    {
     "data": {
      "text/plain": [
       "[9, 8, 5, 0, -1]"
      ]
     },
     "execution_count": 1,
     "metadata": {},
     "output_type": "execute_result"
    }
   ],
   "source": [
    "def moddified_bubble_sort(my_list):\n",
    "    for i in range(len(my_list)):\n",
    "        swapped=False\n",
    "        for j in range(len(my_list)-i-1):\n",
    "            if my_list[j]<my_list[j+1]:\n",
    "                my_list[j],my_list[j+1]=my_list[j+1],my_list[j]\n",
    "                swapped=True\n",
    "        if swapped==False:\n",
    "            break\n",
    "    return my_list\n",
    "moddified_bubble_sort([9,0,8,5,-1])"
   ]
  },
  {
   "cell_type": "markdown",
   "metadata": {},
   "source": [
    "quick sort"
   ]
  },
  {
   "cell_type": "code",
   "execution_count": 2,
   "metadata": {},
   "outputs": [
    {
     "data": {
      "text/plain": [
       "[9, 7, 3, 1, 0, -3]"
      ]
     },
     "execution_count": 2,
     "metadata": {},
     "output_type": "execute_result"
    }
   ],
   "source": [
    "def quick_sort(my_array):\n",
    "    if len(my_array)<=1:\n",
    "        return my_array\n",
    "    pivot=my_array[0]\n",
    "    greater=[x for x in my_array if x >pivot]\n",
    "    smaller=[x for x in my_array if x<pivot]\n",
    "    return quick_sort(greater)+[pivot]+quick_sort(smaller)\n",
    "quick_sort([9,3,7,0,1,-3])"
   ]
  },
  {
   "cell_type": "markdown",
   "metadata": {},
   "source": [
    "merge  sort"
   ]
  },
  {
   "cell_type": "code",
   "execution_count": 8,
   "metadata": {},
   "outputs": [
    {
     "data": {
      "text/plain": [
       "[90, 9, 8, 7, 6, 3, 2, 1, -8]"
      ]
     },
     "execution_count": 8,
     "metadata": {},
     "output_type": "execute_result"
    }
   ],
   "source": [
    "def merge_sort(my_list):\n",
    "    if len(my_list)<=1:\n",
    "        return my_list\n",
    "    middle=len(my_list)//2\n",
    "    left_siide=merge_sort(my_list[ : middle])\n",
    "    right_side=merge_sort(merge_sort(my_list[middle: ]))\n",
    "    return merge(left_siide,right_side)\n",
    "def merge(left,right):\n",
    "    i=0\n",
    "    j=0\n",
    "    sortted_list=[]\n",
    "    while i < len(left) and j < len(right):\n",
    "        if left[i]<right[j]:\n",
    "            sortted_list.append(right[j])\n",
    "            j+=1\n",
    "        else:\n",
    "             sortted_list.append(left[i])\n",
    "             i+=1\n",
    "    sortted_list.extend(left[i: ])\n",
    "    sortted_list.extend(right[j: ])\n",
    "    return sortted_list\n",
    "merge_sort([9,-8,7,8,6,90,1,2,3])\n"
   ]
  },
  {
   "cell_type": "code",
   "execution_count": 7,
   "metadata": {},
   "outputs": [
    {
     "data": {
      "text/plain": [
       "[0, 2, 4, 5, 6, 9]"
      ]
     },
     "execution_count": 7,
     "metadata": {},
     "output_type": "execute_result"
    }
   ],
   "source": [
    "def selectn_sort(my_list):\n",
    "    for i in range(len(my_list)):\n",
    "        key=my_list[i]\n",
    "        pos=i\n",
    "        for j in range(len(my_list)):\n",
    "            if my_list[j]>key:\n",
    "                key=my_list[j]\n",
    "                pos=j\n",
    "        my_list[pos],my_list[i]=my_list[i],my_list[pos]\n",
    "    return my_list\n",
    "selectn_sort([9,0,2,4,5,6])"
   ]
  },
  {
   "cell_type": "code",
   "execution_count": null,
   "metadata": {},
   "outputs": [
    {
     "data": {
      "text/plain": [
       "[-8, 0, 1, 2, 3, 4, 8]"
      ]
     },
     "execution_count": 9,
     "metadata": {},
     "output_type": "execute_result"
    }
   ],
   "source": [
    "def insertion_sort(my_list):\n",
    "  \n",
    "    for i in range(len(my_list)):\n",
    "        key=my_list[i]\n",
    "        j=i-1\n",
    "        while j>= 0 and my_list[j]>key:\n",
    "            my_list[j+1]=my_list[j]\n",
    "            j=j-1\n",
    "        my_list[j+1]=key\n",
    "    return my_list\n",
    "insertion_sort([2,3,4,8,1,0,-8]) \n"
   ]
  },
  {
   "cell_type": "code",
   "execution_count": 4,
   "metadata": {},
   "outputs": [
    {
     "data": {
      "text/plain": [
       "1"
      ]
     },
     "execution_count": 4,
     "metadata": {},
     "output_type": "execute_result"
    }
   ],
   "source": [
    "def in_rotate(my_arr,n):\n",
    "    for i in range(len(my_arr)):\n",
    "        if my_arr[i-1]>my_arr[i+1]:\n",
    "            return i\n",
    "    return -1\n",
    "in_rotate([7,6,5,4,2,1,0],6)"
   ]
  }
 ],
 "metadata": {
  "kernelspec": {
   "display_name": "Python 3",
   "language": "python",
   "name": "python3"
  },
  "language_info": {
   "codemirror_mode": {
    "name": "ipython",
    "version": 3
   },
   "file_extension": ".py",
   "mimetype": "text/x-python",
   "name": "python",
   "nbconvert_exporter": "python",
   "pygments_lexer": "ipython3",
   "version": "3.12.10"
  }
 },
 "nbformat": 4,
 "nbformat_minor": 2
}
