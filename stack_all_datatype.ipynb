{
 "cells": [
  {
   "cell_type": "markdown",
   "id": "be49636b",
   "metadata": {},
   "source": [
    "stack using list"
   ]
  },
  {
   "cell_type": "code",
   "execution_count": 6,
   "id": "2b8c34d1",
   "metadata": {},
   "outputs": [
    {
     "data": {
      "text/plain": [
       "[0, 1, 3]"
      ]
     },
     "execution_count": 6,
     "metadata": {},
     "output_type": "execute_result"
    }
   ],
   "source": [
    "class Stack:\n",
    "    def __init__(self):\n",
    "        self.items=[]\n",
    "    def push(self,data):\n",
    "        self.items.append(data)\n",
    "    def pop(self):\n",
    "        self.items.pop()\n",
    "    def is_empty(self):\n",
    "        return len(self.items) ==0\n",
    "    def display(self):\n",
    "        return self.items\n",
    "s1=Stack()\n",
    "s1.push(0)\n",
    "s1.push(1)\n",
    "s1.push(3)\n",
    "s1.display()"
   ]
  },
  {
   "cell_type": "markdown",
   "id": "77920e02",
   "metadata": {},
   "source": [
    "stack using linkedlist"
   ]
  },
  {
   "cell_type": "code",
   "execution_count": 11,
   "id": "008c4270",
   "metadata": {},
   "outputs": [
    {
     "name": "stdout",
     "output_type": "stream",
     "text": [
      "7 19 10 16 14 \n"
     ]
    },
    {
     "data": {
      "text/plain": [
       "3"
      ]
     },
     "execution_count": 11,
     "metadata": {},
     "output_type": "execute_result"
    }
   ],
   "source": [
    "class Node:\n",
    "    def __init__(self,data=None,next=None):\n",
    "        self.data=data\n",
    "        self.next=next\n",
    "\n",
    "class Stack:\n",
    "    def __init__(self):\n",
    "        self.start=None\n",
    "    def push(self,item):\n",
    "        n=Node(item)\n",
    "        if self.start==None:\n",
    "            self.start=n\n",
    "            return\n",
    "        temp=self.start\n",
    "        while temp.next != None:\n",
    "            temp=temp.next\n",
    "        temp.next=n\n",
    "    def pop(self):\n",
    "        if self.start==None:\n",
    "            return \"can't pop\"\n",
    "        if self.start.next ==None:\n",
    "            val=self.start.data\n",
    "            self.start=None\n",
    "            return val\n",
    "        \n",
    "        temp=self.start\n",
    "        while temp.next.next != None:\n",
    "            temp=temp.next\n",
    "        val=temp.next.data\n",
    "        temp.next=  None\n",
    "        return val\n",
    "    def get_count(self):\n",
    "        temp=self.start\n",
    "        count=0\n",
    "        while temp.next != None:\n",
    "            count+=1\n",
    "            temp=temp.next\n",
    "        return count\n",
    "    def display(self):\n",
    "        temp=self.start\n",
    "        while temp != None:\n",
    "            print(temp.data,end=\" \")\n",
    "            temp=temp.next\n",
    "        print()\n",
    "      \n",
    "s1=Stack()\n",
    "s1.pop()\n",
    "\n",
    "s1.push(7)\n",
    "s1.push(19)\n",
    "s1.push(10)\n",
    "s1.push(16)\n",
    "s1.push(14)\n",
    "s1.display()\n",
    "s1.pop()\n",
    "s1.get_count()"
   ]
  },
  {
   "cell_type": "markdown",
   "id": "818a6414",
   "metadata": {},
   "source": [
    "stack using  arraay is saame as stack using list because array and list are samme in python"
   ]
  },
  {
   "cell_type": "code",
   "execution_count": 3,
   "id": "23ed9863",
   "metadata": {},
   "outputs": [
    {
     "name": "stdout",
     "output_type": "stream",
     "text": [
      "96 95 94 93 92 91 \n"
     ]
    }
   ],
   "source": [
    "class Node:\n",
    "\n",
    "    def __init__(self,data=None,next=None):\n",
    "        self.data=data\n",
    "        self.next=next\n",
    "\n",
    "class Stack_using_ll:\n",
    "\n",
    "    def __init__(self):\n",
    "        self.start=None\n",
    "    def insert_element(self,data):\n",
    "        n=Node(data,self.start)\n",
    "        self.start=n\n",
    "    def delete_elem(self):\n",
    "        if self.start is None:\n",
    "            return None\n",
    "        self.start=self.start.next\n",
    "    def get_top(self):\n",
    "        if self.start is None:\n",
    "            return None\n",
    "        return self.start.data\n",
    "    def display(self):\n",
    "        temp=self.start\n",
    "        while temp is not None:\n",
    "            print(temp.data,end=\" \")\n",
    "            temp=temp.next\n",
    "        print()\n",
    "s1=Stack_using_ll()\n",
    "s1.insert_element(91)\n",
    "s1.insert_element(92)\n",
    "s1.insert_element(93)\n",
    "s1.insert_element(94)\n",
    "s1.insert_element(95)\n",
    "s1.insert_element(96)\n",
    "s1.display()"
   ]
  },
  {
   "cell_type": "code",
   "execution_count": 8,
   "id": "a36c0100",
   "metadata": {},
   "outputs": [
    {
     "data": {
      "text/plain": [
       "False"
      ]
     },
     "execution_count": 8,
     "metadata": {},
     "output_type": "execute_result"
    }
   ],
   "source": [
    "def chheck_parenthesis(my_str):\n",
    "    opening=\"{(<[\"\n",
    "    closing=\"})>]\"\n",
    "    maapping={\")\":\"(\",\"}\":\"{\",\"]\" :\"[\",\">\":\"<\"}\n",
    "    st=[]\n",
    "    for char in my_str:\n",
    "        if char in opening:\n",
    "            st.append(char)\n",
    "        elif char in closing:\n",
    "            if maapping[char] != st.pop() or not st:\n",
    "                return False\n",
    "    return len(my_str)==0\n",
    "chheck_parenthesis(\"{[<()>]}\")"
   ]
  },
  {
   "cell_type": "code",
   "execution_count": 9,
   "id": "12d6b7b4",
   "metadata": {},
   "outputs": [
    {
     "name": "stdout",
     "output_type": "stream",
     "text": [
      "True\n"
     ]
    }
   ],
   "source": [
    "def check_parenthesis(my_str):\n",
    "    opening = \"{(<[\"\n",
    "    closing = \"})>]\"\n",
    "    mapping = {\")\": \"(\", \"}\": \"{\", \"]\": \"[\", \">\": \"<\"}\n",
    "    st = []\n",
    "    \n",
    "    for char in my_str:\n",
    "        if char in opening:\n",
    "            st.append(char)\n",
    "        elif char in closing:\n",
    "            if not st or mapping[char] != st.pop():\n",
    "                return False\n",
    "                \n",
    "    return len(st) == 0  # Check if the stack is empty at the end\n",
    "\n",
    "# Test the function\n",
    "print(check_parenthesis(\"{[<()>]}\"))  # Expected output: True\n"
   ]
  },
  {
   "cell_type": "code",
   "execution_count": 1,
   "id": "59e2257d",
   "metadata": {},
   "outputs": [
    {
     "name": "stdout",
     "output_type": "stream",
     "text": [
      "Top element hai: 30\n",
      "Pop kiya: 30\n",
      "Ab top element hai: 20\n"
     ]
    }
   ],
   "source": [
    "# Stack implementation using 2 queues (lists) - Pure Python\n",
    "\n",
    "class StackUsingQueue:\n",
    "    def __init__(self):\n",
    "        # q1: main queue jisme hamesha latest stack order rahega\n",
    "        # q2: temporary queue jo push operation mein help karega\n",
    "        self.q1 = []\n",
    "        self.q2 = []\n",
    "\n",
    "    def push(self, x):\n",
    "        # Step 1: naye element ko q2 mein daalo\n",
    "        self.q2.append(x)\n",
    "\n",
    "        # Step 2: q1 ke saare elements ko q2 mein transfer karo\n",
    "        while self.q1:\n",
    "            self.q2.append(self.q1.pop(0))  # FIFO ke hisaab se pop(0)\n",
    "\n",
    "        # Step 3: q1 aur q2 ko swap kar do\n",
    "        self.q1, self.q2 = self.q2, self.q1  # ab q1 mein updated stack order hai\n",
    "\n",
    "    def pop(self):\n",
    "        # Agar stack khali hai to kuch return mat karo\n",
    "        if self.is_empty():\n",
    "            print(\"Stack khali hai!\")\n",
    "            return None\n",
    "        # q1 ke front se pop karo (jo stack ka top hai)\n",
    "        return self.q1.pop(0)\n",
    "\n",
    "    def top(self):\n",
    "        # Stack ka top element dikhata hai bina hataaye\n",
    "        if self.is_empty():\n",
    "            print(\"Stack khali hai!\")\n",
    "            return None\n",
    "        return self.q1[0]\n",
    "\n",
    "    def is_empty(self):\n",
    "        # Check karta hai ki stack khali hai ya nahi\n",
    "        return len(self.q1) == 0\n",
    "\n",
    "\n",
    "# ---------- Example Usage ----------\n",
    "stack = StackUsingQueue()\n",
    "\n",
    "stack.push(10)\n",
    "stack.push(20)\n",
    "stack.push(30)\n",
    "\n",
    "print(\"Top element hai:\", stack.top())   # Output: 30\n",
    "print(\"Pop kiya:\", stack.pop())          # Output: 30\n",
    "print(\"Ab top element hai:\", stack.top())  # Output: 20\n"
   ]
  },
  {
   "cell_type": "code",
   "execution_count": 1,
   "id": "970f07f5",
   "metadata": {},
   "outputs": [
    {
     "name": "stdout",
     "output_type": "stream",
     "text": [
      "Top element hai: 30\n",
      "Pop kiya: 30\n",
      "Ab top element hai: 20\n"
     ]
    }
   ],
   "source": [
    "# Node class for Doubly Linked List\n",
    "class Node:\n",
    "    def __init__(self, data):\n",
    "        self.data = data      # Data store karega\n",
    "        self.prev = None      # Previous node ka reference\n",
    "        self.next = None      # Next node ka reference\n",
    "\n",
    "# Stack class using Doubly Linked List\n",
    "class Stack:\n",
    "    def __init__(self):\n",
    "        self.top = None  # Stack ka top element (DLL ka tail)\n",
    "\n",
    "    def push(self, value):\n",
    "        # Naya node banate hain\n",
    "        new_node = Node(value)\n",
    "\n",
    "        if self.top is None:\n",
    "            # Agar stack empty hai to top ban jaaye new_node\n",
    "            self.top = new_node\n",
    "        else:\n",
    "            # Naye node ko current top se link karo\n",
    "            self.top.next = new_node\n",
    "            new_node.prev = self.top\n",
    "            self.top = new_node  # Top ko update karo\n",
    "\n",
    "    def pop(self):\n",
    "        if self.top is None:\n",
    "            print(\"Stack khali hai!\")\n",
    "            return None\n",
    "\n",
    "        # Top node ka data store karo\n",
    "        value = self.top.data\n",
    "\n",
    "        # Top ko ek step peechhe le jao\n",
    "        self.top = self.top.prev\n",
    "\n",
    "        if self.top is not None:\n",
    "            self.top.next = None  # Naye top ka next None hona chahiye\n",
    "\n",
    "        return value\n",
    "\n",
    "    def peek(self):\n",
    "        # Top element ka value return karta hai bina hataaye\n",
    "        if self.top is None:\n",
    "            print(\"Stack khali hai!\")\n",
    "            return None\n",
    "        return self.top.data\n",
    "\n",
    "    def is_empty(self):\n",
    "        return self.top is None\n",
    "\n",
    "\n",
    "# ---------- Example Usage ----------\n",
    "s = Stack()\n",
    "\n",
    "s.push(10)\n",
    "s.push(20)\n",
    "s.push(30)\n",
    "\n",
    "print(\"Top element hai:\", s.peek())     # Output: 30\n",
    "print(\"Pop kiya:\", s.pop())             # Output: 30\n",
    "print(\"Ab top element hai:\", s.peek())  # Output: 20\n"
   ]
  },
  {
   "cell_type": "code",
   "execution_count": 7,
   "id": "57f9b5f8",
   "metadata": {},
   "outputs": [
    {
     "name": "stdout",
     "output_type": "stream",
     "text": [
      "55 53 52 51 \n",
      "53 52 51 \n"
     ]
    }
   ],
   "source": [
    "class Node:\n",
    "\n",
    "    def __init__(self,prev=None,data=None,next=None):\n",
    "        self.prev=prev\n",
    "        self.data=data\n",
    "        self.next=next\n",
    "class Stack_dll:\n",
    "    def __init__(self):\n",
    "        self.top=None\n",
    "    def peek(self):\n",
    "        return self.top.data\n",
    "    def push(self,item):\n",
    "        n=Node(data=item)\n",
    "        if self.top is None:\n",
    "            self.top=n\n",
    "        else:\n",
    "            self.top.next=n\n",
    "            n.prev=self.top\n",
    "            self.top=n\n",
    "    def pop(self):\n",
    "        if self.top is None:\n",
    "            print(\"Stack is empty\")\n",
    "            return\n",
    "        \n",
    "        value=self.top.data\n",
    "        self.top=self.top.prev\n",
    "\n",
    "        if self.top is not None:\n",
    "            self.top.next=None\n",
    "        return value\n",
    "    def is_empty(self):\n",
    "        return self.top==None\n",
    "    def display(self):\n",
    "        if self.top is None:\n",
    "            print(\"stack is empty\")\n",
    "            return\n",
    "        temp=self.top\n",
    "        while temp is not None:\n",
    "            print(temp.data,end=\" \")\n",
    "            temp=temp.prev\n",
    "        print()\n",
    "s1=Stack_dll()\n",
    "s1.push(51)\n",
    "s1.push(52)\n",
    "s1.push(53)\n",
    "s1.push(55)\n",
    "s1.display()\n",
    "s1.pop()\n",
    "s1.display()\n",
    "    "
   ]
  },
  {
   "cell_type": "code",
   "execution_count": 12,
   "id": "a27bc55a",
   "metadata": {},
   "outputs": [
    {
     "data": {
      "text/plain": [
       "[92, 91, 97]"
      ]
     },
     "execution_count": 12,
     "metadata": {},
     "output_type": "execute_result"
    }
   ],
   "source": [
    "class stackusingqueue:\n",
    "\n",
    "    def __init__(self):\n",
    "        self.q1=[]\n",
    "        self.q2=[]\n",
    "    def push(self,x):\n",
    "        self.q2.append(x)\n",
    "        while self.q1:\n",
    "            self.q2.append(self.q1.pop())\n",
    "        self.q1,self.q2=self.q2,self.q1\n",
    "    def pop(self):\n",
    "        if self.is_empty():\n",
    "            print(\"queue is empty\")\n",
    "            return\n",
    "        return self.q1.pop(0)\n",
    "    def top (self):\n",
    "        return self.q1[0]\n",
    "    def is_empty(self):\n",
    "        return len(self.q1)==0\n",
    "    def display(self):\n",
    "        return self.q1\n",
    "s1=stackusingqueue()\n",
    "s1.push(91)\n",
    "s1.push(92)\n",
    "s1.push(97)\n",
    "s1.push(98)\n",
    "s1.display()\n",
    "s1.pop()\n",
    "s1.display()"
   ]
  },
  {
   "cell_type": "code",
   "execution_count": null,
   "id": "60bc69b9",
   "metadata": {},
   "outputs": [],
   "source": [
    "# Stack implementation using 2 queues (lists) - Pure Python\n",
    "\n",
    "class StackUsingQueue:\n",
    "    def __init__(self):\n",
    "        # q1: main queue jisme hamesha latest stack order rahega\n",
    "        # q2: temporary queue jo push operation mein help karega\n",
    "        self.q1 = []\n",
    "        self.q2 = []\n",
    "\n",
    "    def push(self, x):\n",
    "        # Step 1: naye element ko q2 mein daalo\n",
    "        self.q2.append(x)\n",
    "\n",
    "        # Step 2: q1 ke saare elements ko q2 mein transfer karo\n",
    "        while self.q1:\n",
    "            self.q2.append(self.q1.pop(0))  # FIFO ke hisaab se pop(0)\n",
    "\n",
    "        # Step 3: q1 aur q2 ko swap kar do\n",
    "        self.q1, self.q2 = self.q2, self.q1  # ab q1 mein updated stack order hai\n",
    "\n",
    "    def pop(self):\n",
    "        # Agar stack khali hai to kuch return mat karo\n",
    "        if self.is_empty():\n",
    "            print(\"Stack khali hai!\")\n",
    "            return None\n",
    "        # q1 ke front se pop karo (jo stack ka top hai)\n",
    "        return self.q1.pop(0)\n",
    "\n",
    "    def top(self):\n",
    "        # Stack ka top element dikhata hai bina hataaye\n",
    "        if self.is_empty():\n",
    "            print(\"Stack khali hai!\")\n",
    "            return None\n",
    "        return self.q1[0]\n",
    "\n",
    "    def is_empty(self):\n",
    "        # Check karta hai ki stack khali hai ya nahi\n",
    "        return len(self.q1) == 0\n",
    "\n",
    "\n",
    "# ---------- Example Usage ----------\n",
    "stack = StackUsingQueue()\n",
    "\n",
    "stack.push(10)\n",
    "stack.push(20)\n",
    "stack.push(30)\n",
    "\n",
    "print(\"Top element hai:\", stack.top())   # Output: 30\n",
    "print(\"Pop kiya:\", stack.pop())          # Output: 30\n",
    "print(\"Ab top element hai:\", stack.top())  # Output: 20\n"
   ]
  }
 ],
 "metadata": {
  "kernelspec": {
   "display_name": "Python 3",
   "language": "python",
   "name": "python3"
  },
  "language_info": {
   "codemirror_mode": {
    "name": "ipython",
    "version": 3
   },
   "file_extension": ".py",
   "mimetype": "text/x-python",
   "name": "python",
   "nbconvert_exporter": "python",
   "pygments_lexer": "ipython3",
   "version": "3.12.10"
  }
 },
 "nbformat": 4,
 "nbformat_minor": 5
}
